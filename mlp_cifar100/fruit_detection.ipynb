{
 "cells": [
  {
   "cell_type": "markdown",
   "metadata": {
    "colab_type": "text",
    "collapsed": true,
    "id": "JOU0x-Ym2Iu7"
   },
   "source": []
  },
  {
   "cell_type": "markdown",
   "metadata": {
    "colab_type": "text",
    "id": "qbNjEO_82Iu8"
   },
   "source": [
    "# Fruit Detection"
   ]
  },
  {
   "cell_type": "markdown",
   "metadata": {},
   "source": [
    "Für den ersten Versuch eines neuronalen Netzes zur Klassifizierung der Bilder soll ein Multi Layer Perceptron Netz in Keras implementiert und evaluiert werden. Aufgrund seiner geringen Komplexität im Vergleich zu anderen Ansätzen bietet dies einen vergleichsweise einfachen Einstieg in die Bildklassifizierung. Außerdem können hierbei die in der Vorlesung behandelten Konzepte angewandt werden."
   ]
  },
  {
   "cell_type": "markdown",
   "metadata": {},
   "source": [
    "## Bibliotheken\n",
    "\n",
    "Wir verwenden die `tf.keras` Library für das neuronale Netz (`model`). Keras bietet eine sehr hohe Abstraktion (\"High Level API\") auf die Deep Learning Modelle, weshalb es für Einsteiger eine sehr populäre Option darstellt. Des weiteren ermöglicht Keras mit wenig Code ein Modell auszuprobieren und somit schnell einen Ansatz zu evaluieren oder einen Prototypen zu erstellen.\n",
    "`tf.keras` ist die in Tensorflow integrierte Version von Keras und setzt somit auf der Core API von Tensorflow auf. \n",
    "\n",
    "In unserem Prototyp trainieren und evaulieren wir ein `Sequential` Modell, also einen linearen Stack aus Layern.\n",
    "\n",
    "Als Datenstruktur für die Bilder und später die Tensoren verwenden wir die n-dimensionalen `numpy`-Arrays, da diese mit Fancy-Indexing, der `.shape` Property und den komponentenweise Operationen eine intuitive Arbeitsweise mit Matrizen ermöglicht.\n",
    "\n",
    "Für die Visualisierung der Ergebnisse setzen wir auf eine Kombination aus `matplotlib` und `Tensorboard`, wobei matplotlib für die Visualisierung der gelabelten Eingabe-Daten und für eine statische Visualisierung der Ergebnisse benutzt wird und Tensorboard dynamische, interaktive Visualisierungen auch über mehrere Ausführungen hinweg generiert. Tensorboard dient entsprechent nicht nur der Dokumentation, sondern auch in hohem Maße der Optimierung des Modells.\n"
   ]
  },
  {
   "cell_type": "code",
   "execution_count": 1,
   "metadata": {
    "colab": {},
    "colab_type": "code",
    "id": "GVRc_5gu2Iu-",
    "scrolled": true
   },
   "outputs": [],
   "source": [
    "import numpy as np\n",
    "import tensorflow as tf\n",
    "from time import time\n",
    "\n",
    "from tensorflow.keras.datasets import cifar100\n",
    "from tensorflow.keras.callbacks import TensorBoard\n",
    "from tensorflow.keras import Sequential\n",
    "from tensorflow.keras.layers import Flatten, Dense, Dropout, Activation\n",
    "from tensorflow.image import rgb_to_grayscale\n",
    "\n",
    "import matplotlib.pyplot as plt"
   ]
  },
  {
   "cell_type": "markdown",
   "metadata": {},
   "source": [
    "## Vorverarbeitung der Daten\n",
    "\n",
    "### Herunterladen und Split in Trainings- und Testdatensatz\n",
    "\n",
    "Der cifar100-Datensatz wird mit der `load_data()`-Methode aus dem Archiv des Canadian Institute For Advanced Research heruntergeladen, entpackt und in der Form von 2 Tupeln für die gelablten Trainings- und Testdaten zurückgegeben. Der Datensatz setzt sich aus Kategorien samt Subkategorien zusammen. Über das Argument label_mode fordern wir alle Subkategorien an. \n",
    "Diese Trainings- bzw- Test-Tupel bestehen wiederum selbst aus 2 uint8-Numpy-Arrays der shape (50000, 32, 32, 3). Die Bilder sind also 32x32 Pixel groß und haben 3 Farbkanäle (R,G,B). \n",
    "\n",
    "Die Labels sind ebenfalls uint8-Numpy-Arrays, allerdings nur 2-dimensional (50000 Labels mit je einem Index, der zu einer bestimmten Bildklasse gehört).\n",
    "\n",
    "Mit Hilfe der Unpacking Syntax lassen sich die Rückgabe-Tupel in ihre Numpy-Array Bestandteile destrukturieren und diese direkt einer Variablen zuweisen. Es werden also 4 separate Variablen mit nur einer Codezeile definiert und initialisiert."
   ]
  },
  {
   "cell_type": "code",
   "execution_count": 2,
   "metadata": {
    "colab": {},
    "colab_type": "code",
    "id": "FxB-BFQB3jsS"
   },
   "outputs": [
    {
     "name": "stdout",
     "output_type": "stream",
     "text": [
      "Image Data Shape: (50000, 32, 32, 3)\n",
      "Data Type of Images: <class 'numpy.ndarray'>\n",
      "Labels Shape: (50000, 1)\n"
     ]
    }
   ],
   "source": [
    "(x_train, y_train), (x_test, y_test) = cifar100.load_data(label_mode='fine')\n",
    "print(\"Image Data Shape:\", x_train.shape)\n",
    "print(\"Data Type of Images:\", type(x_train))\n",
    "print(\"Labels Shape:\", y_train.shape)"
   ]
  },
  {
   "cell_type": "markdown",
   "metadata": {},
   "source": [
    "### Filtern der relevanten Klassen\n",
    "\n",
    "Da wir mit unserem Modell nur **Früchte** klassizieren möchten, reduzieren wir unsere Daten auf die Kategorien: **Apple**, **Orange**, **Pear**. Diese Klassen entsprechen den Labels mit folgenden Indices: Apple = 0, Orange = 53, Pear = 57."
   ]
  },
  {
   "cell_type": "code",
   "execution_count": 3,
   "metadata": {
    "colab": {},
    "colab_type": "code",
    "id": "TRE4tHkR2IvC"
   },
   "outputs": [],
   "source": [
    "# Wir filtern die Numpy Arrays mittels Numpy Fancy Indexing nach Indices \n",
    "# der Werte 0, 53 oder 57\n",
    "indices_train = np.argwhere((y_train == 0) | (y_train == 53) | (y_train == 57))[:,0]\n",
    "indices_test = np.argwhere((y_test == 0) | (y_test == 53) | (y_test == 57))[:,0]\n",
    "# Wir reduzieren unsere Trainings- und Test-Labels auf die Einträge mit Früchten\n",
    "y_train = np.array(y_train[indices_train])\n",
    "y_test = np.array(y_test[indices_test])\n",
    "# Selbiges tun wir für die Trainings- und Testdaten.\n",
    "x_train = x_train[np.ravel(indices_train)]\n",
    "x_test = x_test[np.ravel(indices_test)]\n",
    "\n",
    "# Nun müssen wir nur noch die Werte auf 0, 1 und 2 mappen, dann entsprechen\n",
    "# die Werte den Indize einer Liste der Länge 3\n",
    "\n",
    "def mapLabels(y):\n",
    "  if y == 53: return [1]\n",
    "  elif y == 57: return [2]\n",
    "  else: return [0]\n",
    "  \n",
    "y_train = np.array(list(map(mapLabels, y_train[:,0].tolist())))\n",
    "y_test = np.array(list(map(mapLabels, y_test[:,0].tolist())))\n",
    "\n",
    "# Die Liste beinhaltet die \"menschlich lesbaren Kategorien\", das Netz arbeitet\n",
    "# ausschließlich mit den Indices.\n",
    "\n",
    "class_names = [\"Apfel\", \"Orange\", \"Birne\"]"
   ]
  },
  {
   "cell_type": "code",
   "execution_count": 4,
   "metadata": {
    "colab": {
     "base_uri": "https://localhost:8080/",
     "height": 136
    },
    "colab_type": "code",
    "executionInfo": {
     "elapsed": 1721,
     "status": "ok",
     "timestamp": 1547417475917,
     "user": {
      "displayName": "",
      "photoUrl": "",
      "userId": ""
     },
     "user_tz": -60
    },
    "id": "HeDM0wrU2IvI",
    "outputId": "88d28a2c-d39b-4e4e-8289-f972c063006f"
   },
   "outputs": [
    {
     "name": "stdout",
     "output_type": "stream",
     "text": [
      "(32, 32)\n"
     ]
    }
   ],
   "source": [
    "# Convert to grayscale\n",
    "x_train = tf.Session().run(rgb_to_grayscale(\n",
    "    x_train,\n",
    "    name=None\n",
    "))\n",
    "x_test = tf.Session().run(rgb_to_grayscale(\n",
    "    x_test,\n",
    "    name=None\n",
    "))\n",
    "\n",
    "# Drop last dimension\n",
    "x_train = x_train[:,:,:,0]\n",
    "x_test = x_test[:,:,:,0]\n",
    "\n",
    "print(x_train[0].shape)\n"
   ]
  },
  {
   "cell_type": "code",
   "execution_count": null,
   "metadata": {
    "colab": {},
    "colab_type": "code",
    "id": "v4SDjd9D4hku"
   },
   "outputs": [],
   "source": [
    "x_train = x_train / 255.0\n",
    "\n",
    "x_test = x_test / 255.0"
   ]
  },
  {
   "cell_type": "code",
   "execution_count": null,
   "metadata": {
    "colab": {
     "base_uri": "https://localhost:8080/",
     "height": 589
    },
    "colab_type": "code",
    "executionInfo": {
     "elapsed": 3153,
     "status": "ok",
     "timestamp": 1547417477364,
     "user": {
      "displayName": "",
      "photoUrl": "",
      "userId": ""
     },
     "user_tz": -60
    },
    "id": "eh8KUB7xFwqA",
    "outputId": "92ad0930-0d6e-470a-f58d-9248a1746b81"
   },
   "outputs": [],
   "source": [
    "plt.figure(figsize=(10,10))\n",
    "for i in range(25):\n",
    "    plt.subplot(5,5,i+1)\n",
    "    plt.xticks([])\n",
    "    plt.yticks([])\n",
    "    plt.grid(False)\n",
    "    plt.imshow(x_train[i], cmap=plt.cm.binary)\n",
    "    plt.xlabel(class_names[np.asscalar(y_train[i])])"
   ]
  },
  {
   "cell_type": "code",
   "execution_count": null,
   "metadata": {
    "colab": {},
    "colab_type": "code",
    "id": "FPV6bMcJIgtJ"
   },
   "outputs": [],
   "source": [
    "\n",
    "model = Sequential([\n",
    "    Flatten(input_shape=(32, 32)),\n",
    "    Dense(1024, activation=tf.nn.relu),\n",
    "    Dense(3, activation=tf.nn.softmax) \n",
    "\n",
    "])\n"
   ]
  },
  {
   "cell_type": "code",
   "execution_count": null,
   "metadata": {
    "colab": {},
    "colab_type": "code",
    "id": "LpmILsSNIv5g"
   },
   "outputs": [],
   "source": [
    "model.compile(optimizer=tf.train.AdamOptimizer(), \n",
    "              loss='sparse_categorical_crossentropy',\n",
    "              metrics=['accuracy'])"
   ]
  },
  {
   "cell_type": "code",
   "execution_count": null,
   "metadata": {},
   "outputs": [],
   "source": [
    "tensorboardCb = TensorBoard(log_dir=\"logs/{}\".format(time()))"
   ]
  },
  {
   "cell_type": "code",
   "execution_count": null,
   "metadata": {
    "colab": {
     "base_uri": "https://localhost:8080/",
     "height": 1734
    },
    "colab_type": "code",
    "executionInfo": {
     "elapsed": 11108,
     "status": "ok",
     "timestamp": 1547417485345,
     "user": {
      "displayName": "",
      "photoUrl": "",
      "userId": ""
     },
     "user_tz": -60
    },
    "id": "IJ5IOV2HI1dV",
    "outputId": "b256510d-dfef-403f-be33-d2d2413bf021"
   },
   "outputs": [],
   "source": [
    "history = model.fit(x_train, y_train, epochs=25, validation_data=(x_test, y_test))"
   ]
  },
  {
   "cell_type": "code",
   "execution_count": null,
   "metadata": {
    "colab": {
     "base_uri": "https://localhost:8080/",
     "height": 51
    },
    "colab_type": "code",
    "executionInfo": {
     "elapsed": 11295,
     "status": "ok",
     "timestamp": 1547417485546,
     "user": {
      "displayName": "",
      "photoUrl": "",
      "userId": ""
     },
     "user_tz": -60
    },
    "id": "uwXmjK5-I4ek",
    "outputId": "0dfcaa9b-a69d-43ad-a2b0-40d38954131e"
   },
   "outputs": [],
   "source": [
    "test_loss, test_acc = model.evaluate(x_test, y_test)\n",
    "print('Test accuracy:', test_acc)"
   ]
  },
  {
   "cell_type": "code",
   "execution_count": null,
   "metadata": {
    "colab": {},
    "colab_type": "code",
    "id": "8zLNxfirI7Ka"
   },
   "outputs": [],
   "source": [
    "predictions = model.predict(x_test)"
   ]
  },
  {
   "cell_type": "code",
   "execution_count": null,
   "metadata": {},
   "outputs": [],
   "source": [
    "plt.plot(history.history['acc'])\n",
    "plt.plot(history.history['val_acc'])\n",
    "plt.plot(history.history['loss'])\n",
    "plt.plot(history.history['val_loss'])\n",
    "plt.ylabel('acc/loss')\n",
    "plt.xlabel('epoch')\n",
    "plt.legend(['train_acc', 'test_acc', 'train_loss', 'test_loss'], loc='best')\n",
    "plt.show()"
   ]
  },
  {
   "cell_type": "code",
   "execution_count": null,
   "metadata": {
    "colab": {},
    "colab_type": "code",
    "id": "cJELDcWoPPhe"
   },
   "outputs": [],
   "source": [
    "def plot_image(i, predictions_array, true_label, img):\n",
    "  predictions_array, true_label, img = predictions_array[i], true_label[i], img[i]\n",
    "  plt.grid(False)\n",
    "  plt.xticks([])\n",
    "  plt.yticks([])\n",
    "  \n",
    "  plt.imshow(img, cmap=plt.cm.binary)\n",
    "\n",
    "  predicted_label = np.argmax(predictions_array)\n",
    "  if predicted_label == true_label:\n",
    "    color = 'blue'\n",
    "  else:\n",
    "    color = 'red'\n",
    "  \n",
    "  plt.xlabel(\"{} {:2.0f}% ({})\".format(class_names[np.asscalar(predicted_label)],\n",
    "                                100*np.max(predictions_array),\n",
    "                                class_names[np.asscalar(true_label)]),\n",
    "                                color=color)\n",
    "\n",
    "def plot_value_array(i, predictions_array, true_label):\n",
    "  predictions_array, true_label = predictions_array[i].tolist(), true_label[i]\n",
    "  plt.grid(False)\n",
    "  plt.xticks([])\n",
    "  plt.yticks([])\n",
    "  thisplot = plt.bar(range(3), predictions_array, color=\"#777777\")\n",
    "  plt.ylim([0, 1]) \n",
    "  predicted_label = np.argmax(predictions_array)\n",
    " \n",
    "  thisplot[np.asscalar(predicted_label)].set_color('red')\n",
    "  thisplot[np.asscalar(true_label)].set_color('blue')"
   ]
  },
  {
   "cell_type": "code",
   "execution_count": null,
   "metadata": {
    "colab": {
     "base_uri": "https://localhost:8080/",
     "height": 589
    },
    "colab_type": "code",
    "executionInfo": {
     "elapsed": 13415,
     "status": "ok",
     "timestamp": 1547417487694,
     "user": {
      "displayName": "",
      "photoUrl": "",
      "userId": ""
     },
     "user_tz": -60
    },
    "id": "MnmynI7UPPhh",
    "outputId": "1740686d-95af-4ea9-d26b-cc363efc5fed"
   },
   "outputs": [],
   "source": [
    "# Plot the first X test images, their predicted label, and the true label\n",
    "# Color correct predictions in blue, incorrect predictions in red\n",
    "num_rows = 5\n",
    "num_cols = 3\n",
    "num_images = num_rows*num_cols\n",
    "plt.figure(figsize=(2*2*num_cols, 2*num_rows))\n",
    "for i in range(num_images):\n",
    "  plt.subplot(num_rows, 2*num_cols, 2*i+1)\n",
    "  plot_image(i, predictions, y_test, x_test)\n",
    "  plt.subplot(num_rows, 2*num_cols, 2*i+2)\n",
    "  plot_value_array(i, predictions, y_test)"
   ]
  }
 ],
 "metadata": {
  "colab": {
   "name": "Copy of Copy of fruit_detection.ipynb",
   "provenance": [
    {
     "file_id": "https://github.com/switchnollie/fruit-detection/blob/master/mlp_cifar100/fruit_detection.ipynb",
     "timestamp": 1547417538633
    },
    {
     "file_id": "https://github.com/switchnollie/fruit-detection/blob/master/mlp_cifar100/fruit_detection.ipynb",
     "timestamp": 1547415919734
    }
   ],
   "version": "0.3.2"
  },
  "kernelspec": {
   "display_name": "Python 3",
   "language": "python",
   "name": "python3"
  },
  "language_info": {
   "codemirror_mode": {
    "name": "ipython",
    "version": 3
   },
   "file_extension": ".py",
   "mimetype": "text/x-python",
   "name": "python",
   "nbconvert_exporter": "python",
   "pygments_lexer": "ipython3",
   "version": "3.6.7"
  }
 },
 "nbformat": 4,
 "nbformat_minor": 1
}
