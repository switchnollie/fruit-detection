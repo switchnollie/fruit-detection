{
 "cells": [
  {
   "cell_type": "markdown",
   "metadata": {
    "colab_type": "text",
    "collapsed": true,
    "id": "JOU0x-Ym2Iu7"
   },
   "source": []
  },
  {
   "cell_type": "markdown",
   "metadata": {
    "colab_type": "text",
    "id": "qbNjEO_82Iu8"
   },
   "source": [
    "# Fruit Detection"
   ]
  },
  {
   "cell_type": "code",
   "execution_count": 2,
   "metadata": {
    "colab": {},
    "colab_type": "code",
    "id": "GVRc_5gu2Iu-"
   },
   "outputs": [],
   "source": [
    "import numpy as np\n",
    "import tensorflow as tf\n",
    "\n",
    "from tensorflow.keras.datasets import cifar100\n",
    "from tensorflow.keras.utils import to_categorical\n",
    "from tensorflow.keras import Sequential\n",
    "from tensorflow.keras.layers import Flatten, Dense\n",
    "from tensorflow.image import rgb_to_grayscale\n",
    "\n",
    "from sklearn.metrics import confusion_matrix\n",
    "\n",
    "import matplotlib.pyplot as plt"
   ]
  },
  {
   "cell_type": "code",
   "execution_count": 3,
   "metadata": {
    "colab": {},
    "colab_type": "code",
    "id": "FxB-BFQB3jsS"
   },
   "outputs": [],
   "source": [
    "(x_train, y_train), (x_test, y_test) = cifar100.load_data(label_mode='fine')"
   ]
  },
  {
   "cell_type": "code",
   "execution_count": 4,
   "metadata": {
    "colab": {},
    "colab_type": "code",
    "id": "TRE4tHkR2IvC"
   },
   "outputs": [],
   "source": [
    "indices_train, indices_test = [], []\n",
    "\n",
    "# Wir untersuchen, ob es sich bei einem Eintrag der Trainings-Labels um eines der Früchte handelt.\n",
    "# Falls ja, fügen wir dessen Index einem zuvor initialisiertem Array hinzu.\n",
    "for i in range(len(y_train)):\n",
    "    if y_train[i] == 0 or y_train[i] == 53 or y_train[i] == 57:\n",
    "        indices_train.append(i)\n",
    "\n",
    "# Selbiges führen wir für alle Test-Labels durch.\n",
    "for i in range(len(y_test)):\n",
    "    if y_test[i] == 0 or y_test[i] == 53 or y_test[i] == 57:\n",
    "        indices_test.append(i)\n",
    "\n",
    "# Wir reduzieren unsere Trainings- und Test-Labels auf alle die der Früchte.\n",
    "y_train = np.array(y_train[indices_train])\n",
    "y_test = np.array(y_test[indices_test])\n",
    "\n",
    "# Wir reduzieren unsere Trainings- und Testdaten auf alle die der Früchte.\n",
    "x_train = x_train[np.ravel(indices_train)]\n",
    "x_test = x_test[np.ravel(indices_test)]\n",
    "\n",
    "# Für die Konvertierung unserer Label-Vektoren in Binäre-Klassenmatrizen, ändern wir alle ursprünglichen\n",
    "# Trainings- und Test-Labels in die Werte 0-2. Man beachte: range(start, ende) inkludiert ende nicht!\n",
    "for i in range(len(y_train)):\n",
    "    if y_train[i] == 0:\n",
    "        np.put(y_train, i, 0)\n",
    "    elif y_train[i] == 53:\n",
    "        np.put(y_train, i, 1)\n",
    "    elif y_train[i] == 57:\n",
    "        np.put(y_train, i, 2)\n",
    "\n",
    "for i in range(len(y_test)):\n",
    "    if y_test[i] == 0:\n",
    "        np.put(y_test, i, 0)\n",
    "    elif y_test[i] == 53:\n",
    "        np.put(y_test, i, 1)\n",
    "    elif y_test[i] == 57:\n",
    "        np.put(y_test, i, 2)\n",
    "\n",
    "class_names = [\"Apfel\", \"Orange\", \"Birne\"]\n",
    "\n"
   ]
  },
  {
   "cell_type": "code",
   "execution_count": 5,
   "metadata": {
    "colab": {
     "base_uri": "https://localhost:8080/",
     "height": 136
    },
    "colab_type": "code",
    "executionInfo": {
     "elapsed": 1561,
     "status": "ok",
     "timestamp": 1547415891924,
     "user": {
      "displayName": "",
      "photoUrl": "",
      "userId": ""
     },
     "user_tz": -60
    },
    "id": "HeDM0wrU2IvI",
    "outputId": "2de60bdc-157d-42ef-8cff-ba2b8b2f97ab"
   },
   "outputs": [
    {
     "name": "stdout",
     "output_type": "stream",
     "text": [
      "[[250 248 247 ... 250 250 249]\n",
      " [250 247 245 ... 250 251 250]\n",
      " [250 247 245 ... 248 248 248]\n",
      " ...\n",
      " [213 207 209 ... 178 194 230]\n",
      " [221 219 218 ... 187 202 232]\n",
      " [232 232 231 ... 210 217 230]]\n"
     ]
    }
   ],
   "source": [
    "# Convert to grayscale\n",
    "x_train = tf.Session().run(rgb_to_grayscale(\n",
    "    x_train,\n",
    "    name=None\n",
    "))\n",
    "x_test = tf.Session().run(rgb_to_grayscale(\n",
    "    x_test,\n",
    "    name=None\n",
    "))\n",
    "\n",
    "# Drop last dimension\n",
    "x_train = x_train[:,:,:,0]\n",
    "x_test = x_test[:,:,:,0]\n",
    "\n",
    "print(x_train[0])\n"
   ]
  },
  {
   "cell_type": "code",
   "execution_count": null,
   "metadata": {
    "colab": {},
    "colab_type": "code",
    "id": "v4SDjd9D4hku"
   },
   "outputs": [],
   "source": [
    "x_train = x_train / 255.0\n",
    "\n",
    "x_test = x_test / 255.0"
   ]
  },
  {
   "cell_type": "code",
   "execution_count": null,
   "metadata": {
    "colab": {
     "base_uri": "https://localhost:8080/",
     "height": 589
    },
    "colab_type": "code",
    "executionInfo": {
     "elapsed": 3189,
     "status": "ok",
     "timestamp": 1547415893587,
     "user": {
      "displayName": "",
      "photoUrl": "",
      "userId": ""
     },
     "user_tz": -60
    },
    "id": "eh8KUB7xFwqA",
    "outputId": "8d51f158-d3b0-4bd6-ee6e-57bedf733cf1"
   },
   "outputs": [],
   "source": [
    "plt.figure(figsize=(10,10))\n",
    "for i in range(25):\n",
    "    plt.subplot(5,5,i+1)\n",
    "    plt.xticks([])\n",
    "    plt.yticks([])\n",
    "    plt.grid(False)\n",
    "    plt.imshow(x_train[i], cmap=plt.cm.binary)\n",
    "    plt.xlabel(class_names[np.asscalar(y_train[i])])"
   ]
  },
  {
   "cell_type": "code",
   "execution_count": null,
   "metadata": {
    "colab": {},
    "colab_type": "code",
    "id": "FPV6bMcJIgtJ"
   },
   "outputs": [],
   "source": [
    "model = Sequential([\n",
    "    Flatten(input_shape=(32, 32)),\n",
    "    Dense(128, activation=tf.nn.relu),\n",
    "    Dense(10, activation=tf.nn.softmax)\n",
    "])"
   ]
  },
  {
   "cell_type": "code",
   "execution_count": null,
   "metadata": {
    "colab": {},
    "colab_type": "code",
    "id": "LpmILsSNIv5g"
   },
   "outputs": [],
   "source": [
    "model.compile(optimizer=tf.train.AdamOptimizer(), \n",
    "              loss='sparse_categorical_crossentropy',\n",
    "              metrics=['accuracy'])"
   ]
  },
  {
   "cell_type": "code",
   "execution_count": null,
   "metadata": {
    "colab": {
     "base_uri": "https://localhost:8080/",
     "height": 204
    },
    "colab_type": "code",
    "executionInfo": {
     "elapsed": 4135,
     "status": "ok",
     "timestamp": 1547415894558,
     "user": {
      "displayName": "",
      "photoUrl": "",
      "userId": ""
     },
     "user_tz": -60
    },
    "id": "IJ5IOV2HI1dV",
    "outputId": "8fcdca90-8288-4c1a-d53d-55a98f22d3bc"
   },
   "outputs": [],
   "source": [
    "model.fit(x_train, y_train, epochs=50)"
   ]
  },
  {
   "cell_type": "code",
   "execution_count": null,
   "metadata": {
    "colab": {
     "base_uri": "https://localhost:8080/",
     "height": 51
    },
    "colab_type": "code",
    "executionInfo": {
     "elapsed": 4342,
     "status": "ok",
     "timestamp": 1547415894772,
     "user": {
      "displayName": "",
      "photoUrl": "",
      "userId": ""
     },
     "user_tz": -60
    },
    "id": "uwXmjK5-I4ek",
    "outputId": "d2439d63-1a8c-43f5-fbd9-bfc96307c7eb"
   },
   "outputs": [],
   "source": [
    "test_loss, test_acc = model.evaluate(x_test, y_test)\n",
    "print('Test accuracy:', test_acc)"
   ]
  },
  {
   "cell_type": "code",
   "execution_count": null,
   "metadata": {
    "colab": {},
    "colab_type": "code",
    "id": "8zLNxfirI7Ka"
   },
   "outputs": [],
   "source": [
    "predictions = model.predict(x_test)"
   ]
  },
  {
   "cell_type": "code",
   "execution_count": null,
   "metadata": {},
   "outputs": [],
   "source": [
    "def plot_image(i, predictions_array, true_label, img):\n",
    "  predictions_array, true_label, img = predictions_array[i], true_label[i], img[i]\n",
    "  plt.grid(False)\n",
    "  plt.xticks([])\n",
    "  plt.yticks([])\n",
    "  \n",
    "  plt.imshow(img, cmap=plt.cm.binary)\n",
    "\n",
    "  predicted_label = np.argmax(predictions_array)\n",
    "  if predicted_label == true_label:\n",
    "    color = 'blue'\n",
    "  else:\n",
    "    color = 'red'\n",
    "  \n",
    "  plt.xlabel(\"{} {:2.0f}% ({})\".format(class_names[predicted_label],\n",
    "                                100*np.max(predictions_array),\n",
    "                                class_names[true_label]),\n",
    "                                color=color)\n",
    "\n",
    "def plot_value_array(i, predictions_array, true_label):\n",
    "  predictions_array, true_label = predictions_array[i], true_label[i]\n",
    "  plt.grid(False)\n",
    "  plt.xticks([])\n",
    "  plt.yticks([])\n",
    "  thisplot = plt.bar(range(10), predictions_array, color=\"#777777\")\n",
    "  plt.ylim([0, 1]) \n",
    "  predicted_label = np.argmax(predictions_array)\n",
    " \n",
    "  thisplot[predicted_label].set_color('red')\n",
    "  thisplot[true_label].set_color('blue')"
   ]
  },
  {
   "cell_type": "code",
   "execution_count": null,
   "metadata": {},
   "outputs": [],
   "source": [
    "# Plot the first X test images, their predicted label, and the true label\n",
    "# Color correct predictions in blue, incorrect predictions in red\n",
    "num_rows = 5\n",
    "num_cols = 3\n",
    "num_images = num_rows*num_cols\n",
    "plt.figure(figsize=(2*2*num_cols, 2*num_rows))\n",
    "for i in range(num_images):\n",
    "  plt.subplot(num_rows, 2*num_cols, 2*i+1)\n",
    "  plot_image(i, predictions, y_test, x_test)\n",
    "  plt.subplot(num_rows, 2*num_cols, 2*i+2)\n",
    "  plot_value_array(i, predictions, y_test)"
   ]
  }
 ],
 "metadata": {
  "colab": {
   "name": "Copy of fruit_detection.ipynb",
   "provenance": [
    {
     "file_id": "https://github.com/switchnollie/fruit-detection/blob/master/mlp_cifar100/fruit_detection.ipynb",
     "timestamp": 1547415919734
    }
   ],
   "version": "0.3.2"
  },
  "kernelspec": {
   "display_name": "Python 3",
   "language": "python",
   "name": "python3"
  },
  "language_info": {
   "codemirror_mode": {
    "name": "ipython",
    "version": 3
   },
   "file_extension": ".py",
   "mimetype": "text/x-python",
   "name": "python",
   "nbconvert_exporter": "python",
   "pygments_lexer": "ipython3",
   "version": "3.6.7"
  }
 },
 "nbformat": 4,
 "nbformat_minor": 1
}
