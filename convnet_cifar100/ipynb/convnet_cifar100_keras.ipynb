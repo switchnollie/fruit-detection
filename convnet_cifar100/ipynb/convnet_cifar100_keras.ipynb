{
 "cells": [
  {
   "cell_type": "markdown",
   "metadata": {},
   "source": [
    "# Convolutional Neural Network (CNN) for Image Classification"
   ]
  },
  {
   "cell_type": "markdown",
   "metadata": {},
   "source": [
    "### Einleitung"
   ]
  },
  {
   "cell_type": "markdown",
   "metadata": {},
   "source": [
    "Bei einem sogenannten *Convolutional Neural Network* (CNN) handelt es sich um eine Unterart der neuronalen Netze. *Convolutional* steht hierbei für Faltung. Unter *Image Classification* verstehen wir einen Ansatz zur Klassifikation von Bildern. Ein überwachtes Lernmodell soll die Klasse, zum Beipiel Apfel, Orange, Birne, eines Bildes identifizieren und vorhersagen können. "
   ]
  },
  {
   "cell_type": "markdown",
   "metadata": {},
   "source": [
    "### Aufbau"
   ]
  },
  {
   "cell_type": "markdown",
   "metadata": {},
   "source": [
    "Ein [CNN](https://developers.google.com/machine-learning/practica/image-classification/convolutional-neural-networks) besteht grundsätzlich aus einem oder mehreren sogenannten *Convolutional Layers* gefolgt von sogenannten *Pooling Layers*. Der *Input Layer* definiert dabei die Form der zu analysierenden Bilder über eine *input_shape: img_width, img_height, channels oder channels, img_width, img_height (abhängig von channel_first/channel_last).  \n",
    "\n",
    "- img_width = Bildbreite in Pixel\n",
    "- img_height = Bildhöhe in Pixel\n",
    "- channels = Bildkanäle (RGB = 3, grayscale = 1, ...)\n",
    "\n",
    "Ziel eines Convolutional Layers ist es, wichtige, lokale Merkmale eines Bildes durch den Einsatz einer mathematischen Faltung in Verbindung mit Filtern zu extrahieren. Das Ergebnis heirbei ist eine sogenannte *Feature Map*. Darauffoldend wird eine Aktivierungsfunktion angewendet. Ein Pooling Layer dient dem Verwerfen unwichtiger Merkmale. Dabei wir ein *Downsampling* eingesetzt, um die Dimensionalität der Feature Map zu reduzieren (gängiger Pooling Layer: MaxPooling). Am Ende jedes CNNs werden eine oder mehrere *Dense Layer*, voll-verbundene Schichten zur Klassifizierung der Bilddaten eingesetzt. Die Anzahl der Neuronen der letzten Schicht entpricht dabei der Anzahl an Klassen."
   ]
  },
  {
   "cell_type": "markdown",
   "metadata": {},
   "source": [
    "### Implementierung eines CNNs zur Klassifikation von Früchten"
   ]
  },
  {
   "cell_type": "markdown",
   "metadata": {},
   "source": [
    "Im folgenden befindet Sie unser finales Modell eines CNNs zur Klassifizierung von Früchte-Daten. Dur Erstellung unseres Modells verwenden wir Python in Kombination mit der Tensorflow-high-level-API Keras. Zur Ausführung müssen mehrere Module importiert werden."
   ]
  },
  {
   "cell_type": "code",
   "execution_count": 2,
   "metadata": {},
   "outputs": [],
   "source": [
    "import numpy as np\n",
    "\n",
    "from keras.datasets import cifar100\n",
    "from keras.utils import to_categorical\n",
    "from keras import Sequential\n",
    "from keras.layers import Conv2D, MaxPooling2D, Flatten, Dropout, Dense\n",
    "from keras.callbacks import TensorBoard\n",
    "\n",
    "from sklearn.metrics import confusion_matrix\n",
    "\n",
    "import matplotlib.pyplot as plt\n",
    "\n",
    "from time import time"
   ]
  },
  {
   "cell_type": "markdown",
   "metadata": {},
   "source": [
    "Für unser Modell nutzen wir den CIFAR100-Datensatz, der über das Modul *keras.datasets* zur Verfügung steht. Dieser besteht aus insgesamt **60000 farbigen Bildern** aufgeteilt in **50000 Trainingsbilder** und **10000 Testbildern**. Die Bilder haben jeweils eine Auflösung von **32x32 Pixeln** und können folgendermaßen geladen werden:"
   ]
  },
  {
   "cell_type": "code",
   "execution_count": 3,
   "metadata": {},
   "outputs": [],
   "source": [
    "(x_train, y_train), (x_test, y_test) = cifar100.load_data(label_mode='fine')"
   ]
  },
  {
   "cell_type": "markdown",
   "metadata": {},
   "source": [
    "Trainings- und Testdaten können über *cifar100.load_data()* geladen werden. Der Datensatz setzt sich aus Kategorien samt Subkategorien zusammen. Über das Argument *label_mode* fordern wir alle Subkategorien an. Da wir mit unserem Modell nur **Früchte** klassizieren möchten, reduzieren wir unsere Daten auf die Kategorien: **Apple, Orange, Pear**. Diese Klassen entsprechen den Labels mit der ID: Apple = 0, Orange = 53, Pear = 57."
   ]
  },
  {
   "cell_type": "code",
   "execution_count": 4,
   "metadata": {},
   "outputs": [],
   "source": [
    "# Wir untersuchen, ob es sich bei einem Eintrag der Trainings-Labels um eines der Früchte (0 = Apfel, 1 = Orange, 2 = Birne) handelt.\n",
    "# Falls ja, fügen wir dessen Index einem Array hinzu.\n",
    "indices_train = np.where((y_train == 0) | (y_train == 53) | (y_train == 57))[0]\n",
    "indices_test = np.where((y_test == 0) | (y_test == 53) | (y_test == 57))[0]\n",
    "\n",
    "# Wir reduzieren unsere Trainings-, Test-Labels und -Daten auf alle die, der Früchte.\n",
    "y_train = np.array(y_train[indices_train])\n",
    "y_test = np.array(y_test[indices_test])\n",
    "\n",
    "x_train = x_train[indices_train]\n",
    "x_test = x_test[indices_test]\n",
    "\n",
    "# Für die Konvertierung unserer Label-Vektoren in Binäre-Klassenmatrizen, ändern wir alle ursprünglichen\n",
    "# Trainings- und Test-Labels in die Werte 0-2 mittels lambda-Funktionen.\n",
    "y_train = np.array(list(map(lambda i: [1] if i == 53 else ([2] if i == 57 else [0]), y_train)))\n",
    "y_test = np.array(list(map(lambda i: [1] if i == 53 else ([2] if i == 57 else [0]), y_test)))\n",
    "\n",
    "\n",
    "# Die Konvertierung unser Label-Vektoren in Binäre-Klassenmatrizen wird für unseren Datensatz benötigt.\n",
    "y_train = to_categorical(y_train, 3)\n",
    "y_test = to_categorical(y_test, 3)"
   ]
  },
  {
   "cell_type": "markdown",
   "metadata": {},
   "source": [
    "Zur Verifizierung der Daten können wir ein paar Beispiele mit Hilfe des Moduls **matplotlib** plotten."
   ]
  },
  {
   "cell_type": "code",
   "execution_count": 6,
   "metadata": {},
   "outputs": [
    {
     "data": {
      "image/png": "[encoded data removed]",
      "text/plain": [
       "<Figure size 1152x432 with 3 Axes>"
      ]
     },
     "metadata": {
      "needs_background": "light"
     },
     "output_type": "display_data"
    }
   ],
   "source": [
    "# Dafür plotten wir jeweils 1 Bild der drei Kategorien mit ihren One-Hot-Labeln.\n",
    "fig = plt.figure(figsize=(16, 6))\n",
    "\n",
    "apple = fig.add_subplot(1, 3, 1)\n",
    "apple.set_title(y_train[0])\n",
    "apple.imshow(x_train[0])\n",
    "\n",
    "orange = fig.add_subplot(1, 3, 2)\n",
    "orange.set_title(y_train[1])\n",
    "orange.imshow(x_train[1])\n",
    "\n",
    "pear = fig.add_subplot(1, 3, 3)\n",
    "pear.set_title(y_train[6])\n",
    "pear.imshow(x_train[6])\n",
    "\n",
    "plt.show()"
   ]
  },
  {
   "cell_type": "markdown",
   "metadata": {},
   "source": [
    "Eine Normalisierung der Daten liefert uns eine"
   ]
  },
  {
   "cell_type": "code",
   "execution_count": 7,
   "metadata": {},
   "outputs": [],
   "source": [
    "# Wir müssen zuvor unsere Bilddaten in Float-Datentypen casten, dass wir Gleitkommazahlen bekommen. \n",
    "x_train = x_train.astype('float32')\n",
    "x_test = x_test.astype('float32')\n",
    "\n",
    "# Konvertieren der RGB-Werte in Werte zwischen [0;1]\n",
    "x_train /= 255\n",
    "x_test /= 255"
   ]
  },
  {
   "cell_type": "markdown",
   "metadata": {},
   "source": [
    "Im folgenden Schritt definieren wir unser Modell. Wir nutzen für die Klassifizierung unserer Bilder ein **Convolutional Neural Network (CNN)**. Das Modell besteht aus vier *Convolutional Layern* und drei *Pooling Layern*. Unsere Filtergröße beträgt *3 x 3*. Wir verwenden für jede Schicht die *ReĹu*-Aktivierungsfunktion. Nur unser Ausgabeschicht verwendet eine *Softmax*-Aktivierungsfunktionen. Als Error-Funktion kommt für Multiklassifizierung bestimmte *Categorial_Crossentropy*  zum Einsatz. Als Optimierer benutzen wir den stochastischen Optimierer *Adam*."
   ]
  },
  {
   "cell_type": "code",
   "execution_count": 8,
   "metadata": {},
   "outputs": [],
   "source": [
    "# Wir definieren unser Model über einen Stapel von Schichten. Hierzu initialisieren wir unser sequentialles Modell.\n",
    "model = Sequential()\n",
    "\n",
    "model.add(Conv2D(32, (3, 3), activation='relu', input_shape=(32, 32, 3)))\n",
    "model.add(MaxPooling2D((2, 2)))\n",
    "# Ein Dropout-Layer dient der Verhinderung eines Overfittings während des Trainungsdurch zufällige Deaktivierung\n",
    "# von Neuronen (hier: 50%).\n",
    "model.add(Dropout(0.5))\n",
    "\n",
    "model.add(Conv2D(96, (3, 3), activation='relu'))\n",
    "model.add(MaxPooling2D((2, 2)))\n",
    "model.add(Dropout(0.5))\n",
    "\n",
    "model.add(Conv2D(192, (3, 3), activation='relu'))\n",
    "model.add(MaxPooling2D((2, 2)))\n",
    "\n",
    "model.add(Dropout(0.5))\n",
    "# Dient der Dimensionsreduktion. Wird für Verwendung von Dense Layern benötigt.\n",
    "model.add(Flatten())\n",
    "\n",
    "# Voll verbundene Neuronen.\n",
    "model.add(Dense(192, activation='relu'))\n",
    "model.add(Dense(3, activation='softmax'))\n",
    "\n",
    "# Konfiguration der Trainingsparameter.\n",
    "model.compile(loss='mean_squared_error', optimizer='Adam', metrics=['accuracy'])"
   ]
  },
  {
   "cell_type": "markdown",
   "metadata": {},
   "source": [
    "Zum Trainieren des Modells übergeben wir der **fit()**-Methode unsere Trainingsdaten und -Labels. Das Modell wird über 5 Epochen trainiert. Wir verwenden unsere Testdaten und -Labels zur Validierung unseres Modells nach jeder Epoche über das Argument *validation_data*. \"Loss\" und \"Accuracy\" werden standardmäßig nach jeder Epoche und nach dem Trainieren ausgegeben (verbose default: 1)."
   ]
  },
  {
   "cell_type": "code",
   "execution_count": 9,
   "metadata": {
    "scrolled": true
   },
   "outputs": [
    {
     "name": "stdout",
     "output_type": "stream",
     "text": [
      "Train on 1500 samples, validate on 300 samples\n",
      "Epoch 1/75\n",
      "1500/1500 [==============================] - 2s 2ms/step - loss: 0.2028 - acc: 0.4867 - val_loss: 0.1843 - val_acc: 0.6233\n",
      "Epoch 2/75\n",
      "1500/1500 [==============================] - 2s 1ms/step - loss: 0.1528 - acc: 0.6860 - val_loss: 0.1411 - val_acc: 0.7367\n",
      "Epoch 3/75\n",
      "1500/1500 [==============================] - 3s 2ms/step - loss: 0.1353 - acc: 0.7093 - val_loss: 0.1194 - val_acc: 0.7633\n",
      "Epoch 4/75\n",
      "1500/1500 [==============================] - 3s 2ms/step - loss: 0.1274 - acc: 0.7240 - val_loss: 0.1159 - val_acc: 0.8000\n",
      "Epoch 5/75\n",
      "1500/1500 [==============================] - 3s 2ms/step - loss: 0.1185 - acc: 0.7393 - val_loss: 0.1124 - val_acc: 0.7767\n",
      "Epoch 6/75\n",
      "1500/1500 [==============================] - 3s 2ms/step - loss: 0.1108 - acc: 0.7653 - val_loss: 0.1249 - val_acc: 0.7567\n",
      "Epoch 7/75\n",
      "1500/1500 [==============================] - 3s 2ms/step - loss: 0.1114 - acc: 0.7587 - val_loss: 0.1267 - val_acc: 0.7567\n",
      "Epoch 8/75\n",
      "1500/1500 [==============================] - 3s 2ms/step - loss: 0.1087 - acc: 0.7760 - val_loss: 0.0967 - val_acc: 0.8133\n",
      "Epoch 9/75\n",
      "1500/1500 [==============================] - 3s 2ms/step - loss: 0.1071 - acc: 0.7800 - val_loss: 0.1098 - val_acc: 0.7767\n",
      "Epoch 10/75\n",
      "1500/1500 [==============================] - 3s 2ms/step - loss: 0.1046 - acc: 0.7853 - val_loss: 0.1116 - val_acc: 0.7900\n",
      "Epoch 11/75\n",
      "1500/1500 [==============================] - 3s 2ms/step - loss: 0.1064 - acc: 0.7813 - val_loss: 0.0984 - val_acc: 0.8233\n",
      "Epoch 12/75\n",
      "1500/1500 [==============================] - 3s 2ms/step - loss: 0.1011 - acc: 0.7933 - val_loss: 0.1138 - val_acc: 0.7633\n",
      "Epoch 13/75\n",
      "1500/1500 [==============================] - 2s 2ms/step - loss: 0.0972 - acc: 0.8033 - val_loss: 0.0842 - val_acc: 0.8433\n",
      "Epoch 14/75\n",
      "1500/1500 [==============================] - 3s 2ms/step - loss: 0.0933 - acc: 0.8100 - val_loss: 0.0990 - val_acc: 0.7800\n",
      "Epoch 15/75\n",
      "1500/1500 [==============================] - 2s 1ms/step - loss: 0.0951 - acc: 0.7947 - val_loss: 0.0863 - val_acc: 0.8433\n",
      "Epoch 16/75\n",
      "1500/1500 [==============================] - 3s 2ms/step - loss: 0.0922 - acc: 0.8140 - val_loss: 0.0980 - val_acc: 0.8133\n",
      "Epoch 17/75\n",
      "1500/1500 [==============================] - 3s 2ms/step - loss: 0.0908 - acc: 0.8140 - val_loss: 0.1020 - val_acc: 0.7767\n",
      "Epoch 18/75\n",
      "1500/1500 [==============================] - 2s 2ms/step - loss: 0.0887 - acc: 0.8207 - val_loss: 0.0790 - val_acc: 0.8600\n",
      "Epoch 19/75\n",
      "1500/1500 [==============================] - 3s 2ms/step - loss: 0.0830 - acc: 0.8320 - val_loss: 0.0821 - val_acc: 0.8533\n",
      "Epoch 20/75\n",
      "1500/1500 [==============================] - 3s 2ms/step - loss: 0.0823 - acc: 0.8373 - val_loss: 0.1065 - val_acc: 0.7567\n",
      "Epoch 21/75\n",
      "1500/1500 [==============================] - 2s 2ms/step - loss: 0.0847 - acc: 0.8333 - val_loss: 0.0872 - val_acc: 0.8367\n",
      "Epoch 22/75\n",
      "1500/1500 [==============================] - 2s 2ms/step - loss: 0.0808 - acc: 0.8367 - val_loss: 0.0961 - val_acc: 0.7900\n",
      "Epoch 23/75\n",
      "1500/1500 [==============================] - 2s 2ms/step - loss: 0.0849 - acc: 0.8293 - val_loss: 0.0994 - val_acc: 0.8100\n",
      "Epoch 24/75\n",
      "1500/1500 [==============================] - 2s 2ms/step - loss: 0.0844 - acc: 0.8340 - val_loss: 0.0947 - val_acc: 0.7933\n",
      "Epoch 25/75\n",
      "1500/1500 [==============================] - 2s 2ms/step - loss: 0.0813 - acc: 0.8380 - val_loss: 0.0990 - val_acc: 0.8100\n",
      "Epoch 26/75\n",
      "1500/1500 [==============================] - 2s 1ms/step - loss: 0.0762 - acc: 0.8493 - val_loss: 0.0792 - val_acc: 0.8367\n",
      "Epoch 27/75\n",
      "1500/1500 [==============================] - 2s 1ms/step - loss: 0.0788 - acc: 0.8353 - val_loss: 0.0985 - val_acc: 0.7933\n",
      "Epoch 28/75\n",
      "1500/1500 [==============================] - 2s 1ms/step - loss: 0.0753 - acc: 0.8573 - val_loss: 0.1014 - val_acc: 0.7800\n",
      "Epoch 29/75\n",
      "1500/1500 [==============================] - 2s 1ms/step - loss: 0.0748 - acc: 0.8413 - val_loss: 0.0879 - val_acc: 0.8167\n",
      "Epoch 30/75\n",
      "1500/1500 [==============================] - 2s 1ms/step - loss: 0.0773 - acc: 0.8393 - val_loss: 0.0885 - val_acc: 0.8267\n",
      "Epoch 31/75\n",
      "1500/1500 [==============================] - 2s 1ms/step - loss: 0.0682 - acc: 0.8753 - val_loss: 0.0752 - val_acc: 0.8533\n",
      "Epoch 32/75\n",
      "1500/1500 [==============================] - 2s 1ms/step - loss: 0.0724 - acc: 0.8600 - val_loss: 0.0782 - val_acc: 0.8433\n",
      "Epoch 33/75\n",
      "1500/1500 [==============================] - 2s 1ms/step - loss: 0.0733 - acc: 0.8480 - val_loss: 0.0797 - val_acc: 0.8300\n",
      "Epoch 34/75\n",
      "1500/1500 [==============================] - 2s 2ms/step - loss: 0.0685 - acc: 0.8667 - val_loss: 0.0883 - val_acc: 0.8167\n",
      "Epoch 35/75\n",
      "1500/1500 [==============================] - 2s 1ms/step - loss: 0.0666 - acc: 0.8727 - val_loss: 0.0750 - val_acc: 0.8433\n",
      "Epoch 36/75\n",
      "1500/1500 [==============================] - 2s 1ms/step - loss: 0.0627 - acc: 0.8793 - val_loss: 0.0796 - val_acc: 0.8267\n",
      "Epoch 37/75\n",
      "1500/1500 [==============================] - 2s 1ms/step - loss: 0.0675 - acc: 0.8667 - val_loss: 0.0744 - val_acc: 0.8400\n",
      "Epoch 38/75\n",
      "1500/1500 [==============================] - 2s 1ms/step - loss: 0.0633 - acc: 0.8780 - val_loss: 0.0813 - val_acc: 0.8500\n",
      "Epoch 39/75\n",
      "1500/1500 [==============================] - 2s 1ms/step - loss: 0.0675 - acc: 0.8653 - val_loss: 0.0738 - val_acc: 0.8567\n",
      "Epoch 40/75\n",
      "1500/1500 [==============================] - 2s 1ms/step - loss: 0.0655 - acc: 0.8733 - val_loss: 0.0731 - val_acc: 0.8533\n",
      "Epoch 41/75\n",
      "1500/1500 [==============================] - 2s 1ms/step - loss: 0.0649 - acc: 0.8720 - val_loss: 0.0735 - val_acc: 0.8567\n",
      "Epoch 42/75\n",
      "1500/1500 [==============================] - 2s 1ms/step - loss: 0.0660 - acc: 0.8653 - val_loss: 0.0939 - val_acc: 0.8000\n",
      "Epoch 43/75\n",
      "1500/1500 [==============================] - 2s 1ms/step - loss: 0.0614 - acc: 0.8800 - val_loss: 0.0785 - val_acc: 0.8333\n",
      "Epoch 44/75\n",
      "1500/1500 [==============================] - 2s 1ms/step - loss: 0.0615 - acc: 0.8793 - val_loss: 0.0730 - val_acc: 0.8700\n",
      "Epoch 45/75\n",
      "1500/1500 [==============================] - 2s 1ms/step - loss: 0.0575 - acc: 0.8867 - val_loss: 0.0689 - val_acc: 0.8667\n",
      "Epoch 46/75\n",
      "1500/1500 [==============================] - 2s 1ms/step - loss: 0.0631 - acc: 0.8733 - val_loss: 0.0664 - val_acc: 0.8700\n",
      "Epoch 47/75\n",
      "1500/1500 [==============================] - 2s 1ms/step - loss: 0.0549 - acc: 0.8987 - val_loss: 0.0793 - val_acc: 0.8300\n",
      "Epoch 48/75\n",
      "1500/1500 [==============================] - 2s 2ms/step - loss: 0.0543 - acc: 0.8933 - val_loss: 0.0684 - val_acc: 0.8633\n",
      "Epoch 49/75\n",
      "1500/1500 [==============================] - 2s 2ms/step - loss: 0.0533 - acc: 0.8980 - val_loss: 0.0698 - val_acc: 0.8567\n",
      "Epoch 50/75\n",
      "1500/1500 [==============================] - 2s 1ms/step - loss: 0.0610 - acc: 0.8833 - val_loss: 0.0722 - val_acc: 0.8467\n",
      "Epoch 51/75\n",
      "1500/1500 [==============================] - 2s 2ms/step - loss: 0.0537 - acc: 0.8953 - val_loss: 0.0758 - val_acc: 0.8467\n",
      "Epoch 52/75\n",
      "1500/1500 [==============================] - 2s 1ms/step - loss: 0.0574 - acc: 0.8907 - val_loss: 0.0919 - val_acc: 0.8000\n",
      "Epoch 53/75\n",
      "1500/1500 [==============================] - 2s 1ms/step - loss: 0.0544 - acc: 0.8953 - val_loss: 0.0700 - val_acc: 0.8633\n",
      "Epoch 54/75\n",
      "1500/1500 [==============================] - 2s 1ms/step - loss: 0.0509 - acc: 0.9067 - val_loss: 0.0862 - val_acc: 0.8233\n",
      "Epoch 55/75\n",
      "1500/1500 [==============================] - 2s 1ms/step - loss: 0.0548 - acc: 0.8953 - val_loss: 0.0796 - val_acc: 0.8333\n",
      "Epoch 56/75\n",
      "1500/1500 [==============================] - 2s 1ms/step - loss: 0.0525 - acc: 0.9013 - val_loss: 0.0627 - val_acc: 0.8800\n",
      "Epoch 57/75\n",
      "1500/1500 [==============================] - 2s 1ms/step - loss: 0.0467 - acc: 0.9060 - val_loss: 0.0653 - val_acc: 0.8667\n",
      "Epoch 58/75\n",
      "1500/1500 [==============================] - 2s 1ms/step - loss: 0.0503 - acc: 0.9007 - val_loss: 0.0712 - val_acc: 0.8567\n",
      "Epoch 59/75\n",
      "1500/1500 [==============================] - 2s 2ms/step - loss: 0.0496 - acc: 0.9027 - val_loss: 0.0589 - val_acc: 0.8833\n",
      "Epoch 60/75\n",
      "1500/1500 [==============================] - 2s 1ms/step - loss: 0.0515 - acc: 0.8987 - val_loss: 0.0604 - val_acc: 0.8933\n",
      "Epoch 61/75\n",
      "1500/1500 [==============================] - 2s 1ms/step - loss: 0.0500 - acc: 0.8987 - val_loss: 0.0771 - val_acc: 0.8467\n",
      "Epoch 62/75\n",
      "1500/1500 [==============================] - 2s 1ms/step - loss: 0.0562 - acc: 0.8880 - val_loss: 0.0709 - val_acc: 0.8567\n",
      "Epoch 63/75\n",
      "1500/1500 [==============================] - 2s 1ms/step - loss: 0.0557 - acc: 0.8840 - val_loss: 0.0701 - val_acc: 0.8733\n",
      "Epoch 64/75\n",
      "1500/1500 [==============================] - 2s 1ms/step - loss: 0.0492 - acc: 0.8953 - val_loss: 0.0608 - val_acc: 0.8833\n",
      "Epoch 65/75\n",
      "1500/1500 [==============================] - 2s 1ms/step - loss: 0.0449 - acc: 0.9107 - val_loss: 0.0743 - val_acc: 0.8433\n",
      "Epoch 66/75\n",
      "1500/1500 [==============================] - 2s 1ms/step - loss: 0.0438 - acc: 0.9140 - val_loss: 0.0612 - val_acc: 0.8800\n",
      "Epoch 67/75\n",
      "1500/1500 [==============================] - 2s 1ms/step - loss: 0.0426 - acc: 0.9187 - val_loss: 0.0704 - val_acc: 0.8667\n",
      "Epoch 68/75\n",
      "1500/1500 [==============================] - 2s 1ms/step - loss: 0.0490 - acc: 0.9073 - val_loss: 0.0563 - val_acc: 0.8900\n",
      "Epoch 69/75\n",
      "1500/1500 [==============================] - 2s 1ms/step - loss: 0.0437 - acc: 0.9140 - val_loss: 0.0625 - val_acc: 0.8833\n",
      "Epoch 70/75\n",
      "1500/1500 [==============================] - 2s 1ms/step - loss: 0.0428 - acc: 0.9220 - val_loss: 0.0597 - val_acc: 0.8900\n",
      "Epoch 71/75\n",
      "1500/1500 [==============================] - 2s 1ms/step - loss: 0.0410 - acc: 0.9220 - val_loss: 0.0619 - val_acc: 0.8967\n",
      "Epoch 72/75\n",
      "1500/1500 [==============================] - 2s 1ms/step - loss: 0.0415 - acc: 0.9200 - val_loss: 0.0617 - val_acc: 0.8700\n",
      "Epoch 73/75\n",
      "1500/1500 [==============================] - 2s 1ms/step - loss: 0.0418 - acc: 0.9180 - val_loss: 0.0692 - val_acc: 0.8533\n",
      "Epoch 74/75\n",
      "1500/1500 [==============================] - 2s 1ms/step - loss: 0.0407 - acc: 0.9193 - val_loss: 0.0620 - val_acc: 0.8733\n",
      "Epoch 75/75\n",
      "1500/1500 [==============================] - 2s 1ms/step - loss: 0.0396 - acc: 0.9207 - val_loss: 0.0701 - val_acc: 0.8633\n"
     ]
    }
   ],
   "source": [
    "# Initialisieren unseres Tensorboard-Callbacks zur späteren Visualisierung unserer Metriken.\n",
    "tensorboard = TensorBoard(log_dir=\"logs/{}\".format(time()))\n",
    "\n",
    "history = model.fit(x_train, y_train, epochs=75, validation_data=(x_test, y_test), callbacks=[tensorboard])"
   ]
  },
  {
   "cell_type": "markdown",
   "metadata": {},
   "source": [
    "Wir können die Testgenauigkeit über den Score von *evaluate()* ausgeben."
   ]
  },
  {
   "cell_type": "code",
   "execution_count": 10,
   "metadata": {},
   "outputs": [
    {
     "name": "stdout",
     "output_type": "stream",
     "text": [
      "300/300 [==============================] - 0s 522us/step\n",
      "Test-accuracy: 86.33333325386047%\n"
     ]
    }
   ],
   "source": [
    "# Ausgeben der Test-accuracy\n",
    "score = model.evaluate(x_test, y_test)\n",
    "\n",
    "print(\"Test-accuracy: \" + str(score[1]*100) + \"%\")"
   ]
  },
  {
   "cell_type": "markdown",
   "metadata": {},
   "source": [
    "Zur Visualisierung einer **Confusion Matrix** benötigen wir die Vorhersagen der Testdaten-Labels. Dafür rufen wir die Methode *predict()* auf unsere Testdaten auf. Ebenfalls wandeln wir unsere binären Test-Labels zurück, um diese mit den Vorhersagen vergleichen zu können."
   ]
  },
  {
   "cell_type": "code",
   "execution_count": 11,
   "metadata": {
    "scrolled": true
   },
   "outputs": [
    {
     "name": "stdout",
     "output_type": "stream",
     "text": [
      "[[88  2 10]\n",
      " [ 7 78 15]\n",
      " [ 5  2 93]]\n"
     ]
    }
   ],
   "source": [
    "# Vorhersagen der Testdaten-Labels.\n",
    "y_pred = model.predict_classes(x_test, verbose=0)\n",
    "\n",
    "# Umkehren der binären Klassenmatrix zu kategorischen Vektoren für Confusion Matrix.\n",
    "y_test_rev = [np.argmax(y, axis=None, out=None) for y in y_test]\n",
    "\n",
    "# Berechnen der Confusion Matrix\n",
    "print(confusion_matrix(y_test_rev, y_pred))"
   ]
  },
  {
   "cell_type": "markdown",
   "metadata": {},
   "source": [
    "Mittels *matplotlib* können wir unsere Trainings-, Test- History in Bezug auf Accuracy und Loss plotten."
   ]
  },
  {
   "cell_type": "code",
   "execution_count": 12,
   "metadata": {},
   "outputs": [
    {
     "data": {
      "image/png": "[encoded data removed]",
      "text/plain": [
       "<Figure size 432x288 with 1 Axes>"
      ]
     },
     "metadata": {
      "needs_background": "light"
     },
     "output_type": "display_data"
    }
   ],
   "source": [
    "plt.plot(history.history['acc'])\n",
    "plt.plot(history.history['val_acc'])\n",
    "plt.plot(history.history['loss'])\n",
    "plt.plot(history.history['val_loss'])\n",
    "plt.ylabel('accuracy / loss')\n",
    "plt.xlabel('epoch')\n",
    "plt.legend(['train_acc', 'test_acc', 'train_loss', 'test_loss'], loc='center right')\n",
    "plt.show()"
   ]
  },
  {
   "cell_type": "markdown",
   "metadata": {},
   "source": [
    "Um unser Modell für weitere Aufgaben verwenden zu können nutzen wir die **save**-Methode zur Speicherung unseres Modells als Datei."
   ]
  },
  {
   "cell_type": "code",
   "execution_count": 13,
   "metadata": {},
   "outputs": [],
   "source": [
    "model.save(\"model_75_1.h5\")"
   ]
  }
 ],
 "metadata": {
  "kernelspec": {
   "display_name": "Python 3",
   "language": "python",
   "name": "python3"
  },
  "language_info": {
   "codemirror_mode": {
    "name": "ipython",
    "version": 3
   },
   "file_extension": ".py",
   "mimetype": "text/x-python",
   "name": "python",
   "nbconvert_exporter": "python",
   "pygments_lexer": "ipython3",
   "version": "3.6.7"
  }
 },
 "nbformat": 4,
 "nbformat_minor": 1
}
