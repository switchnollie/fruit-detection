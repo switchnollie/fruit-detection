{
 "cells": [
  {
   "cell_type": "markdown",
   "metadata": {},
   "source": [
    "# Convolutional Neural Network (CNN) for Image Classification"
   ]
  },
  {
   "cell_type": "markdown",
   "metadata": {},
   "source": [
    "### Einleitung"
   ]
  },
  {
   "cell_type": "markdown",
   "metadata": {},
   "source": [
    "Bei einem sogenannten *Convolutional Neural Network* (CNN) handelt es sich um eine Unterart der neuronalen Netze. *Convolutional* steht hierbei für Faltung. Unter *Image Classification* verstehen wir einen Ansatz zur Klassifikation von Bildern. Ein überwachtes Lernmodell soll die Klasse, zum Beipiel Apfel, Orange, Birne, eines Bildes identifizieren und vorhersagen können. "
   ]
  },
  {
   "cell_type": "markdown",
   "metadata": {},
   "source": [
    "### Aufbau"
   ]
  },
  {
   "cell_type": "markdown",
   "metadata": {},
   "source": [
    "Ein [CNN](https://developers.google.com/machine-learning/practica/image-classification/convolutional-neural-networks) besteht grundsätzlich aus einem oder mehreren sogenannten *Convolutional Layers* gefolgt von sogenannten *Pooling Layers*. Der *Input Layer* definiert dabei die Form der zu analysierenden Bilder über eine *input_shape: img_width, img_height, channels oder channels, img_width, img_height (abhängig von channel_first/channel_last).  \n",
    "\n",
    "- img_width = Bildbreite in Pixel\n",
    "- img_height = Bildhöhe in Pixel\n",
    "- channels = Bildkanäle (RGB = 3, grayscale = 1, ...)\n",
    "\n",
    "Ziel eines Convolutional Layers ist es, wichtige, lokale Merkmale eines Bildes durch den Einsatz einer mathematischen Faltung in Verbindung mit Filtern zu extrahieren. Das Ergebnis heirbei ist eine sogenannte *Feature Map*. Darauffoldend wird eine Aktivierungsfunktion angewendet. Ein Pooling Layer dient dem Verwerfen unwichtiger Merkmale. Dabei wir ein *Downsampling* eingesetzt, um die Dimensionalität der Feature Map zu reduzieren (gängiger Pooling Layer: MaxPooling). Am Ende jedes CNNs werden eine oder mehrere *Dense Layer*, voll-verbundene Schichten zur Klassifizierung der Bilddaten eingesetzt. Die Anzahl der Neuronen der letzten Schicht entpricht dabei der Anzahl an Klassen."
   ]
  },
  {
   "cell_type": "markdown",
   "metadata": {},
   "source": [
    "### Implementierung eines CNNs zur Klassifikation von Früchten"
   ]
  },
  {
   "cell_type": "markdown",
   "metadata": {},
   "source": [
    "Im folgenden befindet Sie unser finales Modell eines CNNs zur Klassifizierung von Früchte-Daten. Dur Erstellung unseres Modells verwenden wir Python in Kombination mit der Tensorflow-high-level-API Keras. Zur Ausführung müssen mehrere Module importiert werden."
   ]
  },
  {
   "cell_type": "code",
   "execution_count": 3,
   "metadata": {},
   "outputs": [],
   "source": [
    "import numpy as np\n",
    "\n",
    "from keras.datasets import cifar100\n",
    "from keras.utils import to_categorical\n",
    "from keras import Sequential\n",
    "from keras.layers import Conv2D, MaxPooling2D, Flatten, Dropout, Dense\n",
    "\n",
    "from sklearn.metrics import confusion_matrix\n",
    "\n",
    "import matplotlib.pyplot as plt"
   ]
  },
  {
   "cell_type": "markdown",
   "metadata": {},
   "source": [
    "Für unser Modell nutzen wir den CIFAR100-Datensatz, der über das Modul *keras.datasets* zur Verfügung steht. Dieser besteht aus insgesamt **60000 farbigen Bildern** aufgeteilt in **50000 Trainingsbilder** und **10000 Testbildern**. Die Bilder haben jeweils eine Auflösung von **32x32 Pixeln** und können folgendermaßen geladen werden:"
   ]
  },
  {
   "cell_type": "code",
   "execution_count": 4,
   "metadata": {},
   "outputs": [],
   "source": [
    "(x_train, y_train), (x_test, y_test) = cifar100.load_data(label_mode='fine')"
   ]
  },
  {
   "cell_type": "markdown",
   "metadata": {},
   "source": [
    "Trainings- und Testdaten können über *cifar100.load_data()* geladen werden. Der Datensatz setzt sich aus Kategorien samt Subkategorien zusammen. Über das Argument *label_mode* fordern wir alle Subkategorien an. Da wir mit unserem Modell nur **Früchte** klassizieren möchten, reduzieren wir unsere Daten auf die Kategorien: **Apple, Orange, Pear**. Diese Klassen entsprechen den Labels mit der ID: Apple = 0, Orange = 53, Pear = 57."
   ]
  },
  {
   "cell_type": "code",
   "execution_count": 5,
   "metadata": {},
   "outputs": [],
   "source": [
    "indices_train, indices_test = [], []\n",
    "\n",
    "# Wir untersuchen, ob es sich bei einem Eintrag der Trainings-Labels um eines der Früchte handelt.\n",
    "# Falls ja, fügen wir dessen Index einem zuvor initialisiertem Array hinzu.\n",
    "for i in range(len(y_train)):\n",
    "    if y_train[i] == 0 or y_train[i] == 53 or y_train[i] == 57:\n",
    "        indices_train.append(i)\n",
    "\n",
    "# Selbiges führen wir für alle Test-Labels durch.\n",
    "for i in range(len(y_test)):\n",
    "    if y_test[i] == 0 or y_test[i] == 53 or y_test[i] == 57:\n",
    "        indices_test.append(i)\n",
    "\n",
    "# Wir reduzieren unsere Trainings- und Test-Labels auf alle die, der Früchte.\n",
    "y_train = np.array(y_train[indices_train])\n",
    "y_test = np.array(y_test[indices_test])\n",
    "\n",
    "# Wir reduzieren unsere Trainings- und Testdaten auf alle die, der Früchte.\n",
    "x_train = x_train[np.ravel(indices_train)]\n",
    "x_test = x_test[np.ravel(indices_test)]\n",
    "\n",
    "# Für die Konvertierung unserer Label-Vektoren in Binäre-Klassenmatrizen, ändern wir alle ursprünglichen\n",
    "# Trainings- und Test-Labels in die Werte 0-2. Man beachte: range(start, ende) inkludiert ende nicht!\n",
    "for i in range(len(y_train)):\n",
    "    if y_train[i] == 0:\n",
    "        np.put(y_train, i, 0)\n",
    "    elif y_train[i] == 53:\n",
    "        np.put(y_train, i, 1)\n",
    "    elif y_train[i] == 57:\n",
    "        np.put(y_train, i, 2)\n",
    "\n",
    "for i in range(len(y_test)):\n",
    "    if y_test[i] == 0:\n",
    "        np.put(y_test, i, 0)\n",
    "    elif y_test[i] == 53:\n",
    "        np.put(y_test, i, 1)\n",
    "    elif y_test[i] == 57:\n",
    "        np.put(y_test, i, 2)\n",
    "\n",
    "\n",
    "# Die Konvertierung unser Label-Vektoren in Binäre-Klassenmatrizen wird für unseren Datensatz benötigt.\n",
    "y_train = to_categorical(y_train, 3)\n",
    "y_test = to_categorical(y_test, 3)"
   ]
  },
  {
   "cell_type": "markdown",
   "metadata": {},
   "source": [
    "Zur Verifizierung der Daten können wir ein paar Beispiele mit Hilfe des Moduls **matplotlib** plotten."
   ]
  },
  {
   "cell_type": "code",
   "execution_count": 7,
   "metadata": {},
   "outputs": [
    {
     "data": {
      "image/png": "[encoded data removed]",
      "text/plain": [
       "<Figure size 1152x432 with 3 Axes>"
      ]
     },
     "metadata": {
      "needs_background": "light"
     },
     "output_type": "display_data"
    }
   ],
   "source": [
    "# Dafür plotten wir jeweils 1 Bild der drei Kategorien mit ihren One-Hot-Labeln.\n",
    "fig = plt.figure(figsize=(16, 6))\n",
    "\n",
    "apple = fig.add_subplot(1, 3, 1)\n",
    "apple.set_title(y_train[0])\n",
    "apple.imshow(x_train[0])\n",
    "\n",
    "orange = fig.add_subplot(1, 3, 2)\n",
    "orange.set_title(y_train[1])\n",
    "orange.imshow(x_train[1])\n",
    "\n",
    "pear = fig.add_subplot(1, 3, 3)\n",
    "pear.set_title(y_train[6])\n",
    "pear.imshow(x_train[6])\n",
    "\n",
    "plt.show()"
   ]
  },
  {
   "cell_type": "markdown",
   "metadata": {},
   "source": [
    "Eine Normalisierung der Daten liefert uns eine"
   ]
  },
  {
   "cell_type": "code",
   "execution_count": 8,
   "metadata": {},
   "outputs": [],
   "source": [
    "# Wir müssen zuvor unsere Bilddaten in Float-Datentypen casten, dass wir Gleitkommazahlen bekommen. \n",
    "x_train = x_train.astype('float32')\n",
    "x_test = x_test.astype('float32')\n",
    "\n",
    "# Konvertieren der RGB-Werte in Werte zwischen [0;1]\n",
    "x_train /= 255\n",
    "x_test /= 255"
   ]
  },
  {
   "cell_type": "markdown",
   "metadata": {},
   "source": [
    "Im folgenden Schritt definieren wir unser Modell. Wir nutzen für die Klassifizierung unserer Bilder ein **Convolutional Neural Network (CNN)**. Das Modell besteht aus vier *Convolutional Layern* und drei *Pooling Layern*. Unsere Filtergröße beträgt *3 x 3*. Wir verwenden für jede Schicht die *ReĹu*-Aktivierungsfunktion. Nur unser Ausgabeschicht verwendet eine *Softmax*-Aktivierungsfunktionen. Als Error-Funktion kommt für Multiklassifizierung bestimmte *Categorial_Crossentropy*  zum Einsatz. Als Optimierer benutzen wir den stochastischen Optimierer *Adam*."
   ]
  },
  {
   "cell_type": "code",
   "execution_count": 9,
   "metadata": {},
   "outputs": [],
   "source": [
    "# Wir definieren unser Model über einen Stapel von Schichten. Hierzu initialisieren wir unser sequentialles Modell.\n",
    "model = Sequential()\n",
    "\n",
    "model.add(Conv2D(32, (3, 3), activation='relu', input_shape=(32, 32, 3)))\n",
    "model.add(MaxPooling2D((2, 2)))\n",
    "\n",
    "model.add(Conv2D(96, (3, 3), activation='relu'))\n",
    "model.add(MaxPooling2D((2, 2)))\n",
    "\n",
    "model.add(Conv2D(192, (3, 3), activation='relu'))\n",
    "model.add(MaxPooling2D((2, 2)))\n",
    "\n",
    "# Ein Dropout-Layer dient der Verhinderung eines Overfittings während des Trainungsdurch zufällige Deaktivierung\n",
    "# von Neuronen (hier: 40%).\n",
    "model.add(Dropout(0.4))\n",
    "# Dient der Dimensionsreduktion. Wird für Verwendung von Dense Layern benötigt.\n",
    "model.add(Flatten())\n",
    "\n",
    "# Voll verbundene Neuronen.\n",
    "model.add(Dense(96, activation='relu'))\n",
    "model.add(Dense(3, activation='softmax'))\n",
    "\n",
    "# Konfiguration der Trainingsparameter.\n",
    "model.compile(loss='categorical_crossentropy', optimizer='Adam', metrics=['accuracy'])"
   ]
  },
  {
   "cell_type": "markdown",
   "metadata": {},
   "source": [
    "Zum Trainieren des Modells übergeben wir der **fit()**-Methode unsere Trainingsdaten und -Labels. Das Modell wird über 5 Epochen trainiert. Wir verwenden unsere Testdaten und -Labels zur Validierung unseres Modells nach jeder Epoche über das Argument *validation_data*. \"Loss\" und \"Accuracy\" werden standardmäßig nach jeder Epoche und nach dem Trainieren ausgegeben (verbose default: 1)."
   ]
  },
  {
   "cell_type": "code",
   "execution_count": 10,
   "metadata": {},
   "outputs": [
    {
     "name": "stdout",
     "output_type": "stream",
     "text": [
      "Train on 1500 samples, validate on 300 samples\n",
      "Epoch 1/50\n",
      "1500/1500 [==============================] - 2s 2ms/step - loss: 0.9582 - acc: 0.5573 - val_loss: 0.7003 - val_acc: 0.7500\n",
      "Epoch 2/50\n",
      "1500/1500 [==============================] - 2s 1ms/step - loss: 0.7088 - acc: 0.7100 - val_loss: 0.5581 - val_acc: 0.7933\n",
      "Epoch 3/50\n",
      "1500/1500 [==============================] - 2s 1ms/step - loss: 0.6278 - acc: 0.7393 - val_loss: 0.5095 - val_acc: 0.7900\n",
      "Epoch 4/50\n",
      "1500/1500 [==============================] - 2s 1ms/step - loss: 0.6151 - acc: 0.7467 - val_loss: 0.4850 - val_acc: 0.8100\n",
      "Epoch 5/50\n",
      "1500/1500 [==============================] - 2s 1ms/step - loss: 0.5408 - acc: 0.7767 - val_loss: 0.4723 - val_acc: 0.8233\n",
      "Epoch 6/50\n",
      "1500/1500 [==============================] - 2s 1ms/step - loss: 0.5346 - acc: 0.7827 - val_loss: 0.4862 - val_acc: 0.8167\n",
      "Epoch 7/50\n",
      "1500/1500 [==============================] - 2s 1ms/step - loss: 0.5021 - acc: 0.8013 - val_loss: 0.4659 - val_acc: 0.8000\n",
      "Epoch 8/50\n",
      "1500/1500 [==============================] - 2s 1ms/step - loss: 0.4653 - acc: 0.8267 - val_loss: 0.5331 - val_acc: 0.7967\n",
      "Epoch 9/50\n",
      "1500/1500 [==============================] - 2s 1ms/step - loss: 0.4323 - acc: 0.8340 - val_loss: 0.4715 - val_acc: 0.8233\n",
      "Epoch 10/50\n",
      "1500/1500 [==============================] - 2s 1ms/step - loss: 0.4011 - acc: 0.8507 - val_loss: 0.4628 - val_acc: 0.8267\n",
      "Epoch 11/50\n",
      "1500/1500 [==============================] - 2s 1ms/step - loss: 0.3721 - acc: 0.8607 - val_loss: 0.4584 - val_acc: 0.8200\n",
      "Epoch 12/50\n",
      "1500/1500 [==============================] - 2s 1ms/step - loss: 0.3398 - acc: 0.8687 - val_loss: 0.3670 - val_acc: 0.8633\n",
      "Epoch 13/50\n",
      "1500/1500 [==============================] - 2s 1ms/step - loss: 0.3277 - acc: 0.8740 - val_loss: 0.4454 - val_acc: 0.8233\n",
      "Epoch 14/50\n",
      "1500/1500 [==============================] - 2s 1ms/step - loss: 0.2920 - acc: 0.8940 - val_loss: 0.3977 - val_acc: 0.8567\n",
      "Epoch 15/50\n",
      "1500/1500 [==============================] - 2s 1ms/step - loss: 0.2647 - acc: 0.8987 - val_loss: 0.5534 - val_acc: 0.7867\n",
      "Epoch 16/50\n",
      "1500/1500 [==============================] - 2s 1ms/step - loss: 0.3070 - acc: 0.8873 - val_loss: 0.4647 - val_acc: 0.8333\n",
      "Epoch 17/50\n",
      "1500/1500 [==============================] - 2s 1ms/step - loss: 0.2043 - acc: 0.9253 - val_loss: 0.4409 - val_acc: 0.8733\n",
      "Epoch 18/50\n",
      "1500/1500 [==============================] - 2s 1ms/step - loss: 0.2184 - acc: 0.9160 - val_loss: 0.4344 - val_acc: 0.8433\n",
      "Epoch 19/50\n",
      "1500/1500 [==============================] - 2s 1ms/step - loss: 0.1776 - acc: 0.9373 - val_loss: 0.4351 - val_acc: 0.8567\n",
      "Epoch 20/50\n",
      "1500/1500 [==============================] - 2s 1ms/step - loss: 0.1679 - acc: 0.9420 - val_loss: 0.4201 - val_acc: 0.8600\n",
      "Epoch 21/50\n",
      "1500/1500 [==============================] - 2s 1ms/step - loss: 0.1429 - acc: 0.9480 - val_loss: 0.4626 - val_acc: 0.8433\n",
      "Epoch 22/50\n",
      "1500/1500 [==============================] - 2s 1ms/step - loss: 0.1447 - acc: 0.9573 - val_loss: 0.4615 - val_acc: 0.8533\n",
      "Epoch 23/50\n",
      "1500/1500 [==============================] - 2s 1ms/step - loss: 0.1097 - acc: 0.9653 - val_loss: 0.4277 - val_acc: 0.8633\n",
      "Epoch 24/50\n",
      "1500/1500 [==============================] - 2s 1ms/step - loss: 0.0987 - acc: 0.9660 - val_loss: 0.4575 - val_acc: 0.8533\n",
      "Epoch 25/50\n",
      "1500/1500 [==============================] - 2s 1ms/step - loss: 0.0815 - acc: 0.9740 - val_loss: 0.5861 - val_acc: 0.8733\n",
      "Epoch 26/50\n",
      "1500/1500 [==============================] - 2s 1ms/step - loss: 0.0818 - acc: 0.9687 - val_loss: 0.5086 - val_acc: 0.8500\n",
      "Epoch 27/50\n",
      "1500/1500 [==============================] - 2s 1ms/step - loss: 0.1134 - acc: 0.9567 - val_loss: 0.5071 - val_acc: 0.8733\n",
      "Epoch 28/50\n",
      "1500/1500 [==============================] - 2s 1ms/step - loss: 0.1508 - acc: 0.9493 - val_loss: 0.4209 - val_acc: 0.8567\n",
      "Epoch 29/50\n",
      "1500/1500 [==============================] - 2s 1ms/step - loss: 0.0748 - acc: 0.9727 - val_loss: 0.4679 - val_acc: 0.8700\n",
      "Epoch 30/50\n",
      "1500/1500 [==============================] - 2s 1ms/step - loss: 0.0664 - acc: 0.9793 - val_loss: 0.4979 - val_acc: 0.8733\n",
      "Epoch 31/50\n",
      "1500/1500 [==============================] - 2s 1ms/step - loss: 0.0554 - acc: 0.9800 - val_loss: 0.4798 - val_acc: 0.8467\n",
      "Epoch 32/50\n",
      "1500/1500 [==============================] - 2s 1ms/step - loss: 0.0478 - acc: 0.9860 - val_loss: 0.5158 - val_acc: 0.8433\n",
      "Epoch 33/50\n",
      "1500/1500 [==============================] - 2s 1ms/step - loss: 0.0575 - acc: 0.9867 - val_loss: 0.4881 - val_acc: 0.8633\n",
      "Epoch 34/50\n",
      "1500/1500 [==============================] - 2s 1ms/step - loss: 0.0402 - acc: 0.9867 - val_loss: 0.5546 - val_acc: 0.8567\n",
      "Epoch 35/50\n",
      "1500/1500 [==============================] - 2s 1ms/step - loss: 0.0745 - acc: 0.9740 - val_loss: 0.5560 - val_acc: 0.8533\n",
      "Epoch 36/50\n",
      "1500/1500 [==============================] - 2s 1ms/step - loss: 0.0519 - acc: 0.9813 - val_loss: 0.6373 - val_acc: 0.8633\n",
      "Epoch 37/50\n",
      "1500/1500 [==============================] - 2s 1ms/step - loss: 0.0307 - acc: 0.9900 - val_loss: 0.5483 - val_acc: 0.8833\n",
      "Epoch 38/50\n",
      "1500/1500 [==============================] - 2s 1ms/step - loss: 0.0380 - acc: 0.9880 - val_loss: 0.5768 - val_acc: 0.8667\n",
      "Epoch 39/50\n",
      "1500/1500 [==============================] - 2s 1ms/step - loss: 0.0527 - acc: 0.9833 - val_loss: 0.5050 - val_acc: 0.8633\n",
      "Epoch 40/50\n",
      "1500/1500 [==============================] - 2s 1ms/step - loss: 0.0651 - acc: 0.9753 - val_loss: 0.5674 - val_acc: 0.8367\n",
      "Epoch 41/50\n",
      "1500/1500 [==============================] - 2s 1ms/step - loss: 0.0467 - acc: 0.9833 - val_loss: 0.5181 - val_acc: 0.8667\n",
      "Epoch 42/50\n",
      "1500/1500 [==============================] - 2s 1ms/step - loss: 0.0489 - acc: 0.9840 - val_loss: 0.6847 - val_acc: 0.8500\n",
      "Epoch 43/50\n",
      "1500/1500 [==============================] - 2s 1ms/step - loss: 0.0368 - acc: 0.9900 - val_loss: 0.6348 - val_acc: 0.8533\n",
      "Epoch 44/50\n",
      "1500/1500 [==============================] - 2s 1ms/step - loss: 0.0240 - acc: 0.9933 - val_loss: 0.5893 - val_acc: 0.8800\n",
      "Epoch 45/50\n",
      "1500/1500 [==============================] - 2s 1ms/step - loss: 0.0256 - acc: 0.9900 - val_loss: 0.6203 - val_acc: 0.8700\n",
      "Epoch 46/50\n",
      "1500/1500 [==============================] - 2s 1ms/step - loss: 0.0221 - acc: 0.9940 - val_loss: 0.6594 - val_acc: 0.8467\n",
      "Epoch 47/50\n",
      "1500/1500 [==============================] - 2s 1ms/step - loss: 0.0198 - acc: 0.9947 - val_loss: 0.7096 - val_acc: 0.8533\n",
      "Epoch 48/50\n",
      "1500/1500 [==============================] - 2s 1ms/step - loss: 0.0238 - acc: 0.9933 - val_loss: 0.6568 - val_acc: 0.8700\n",
      "Epoch 49/50\n",
      "1500/1500 [==============================] - 2s 1ms/step - loss: 0.0160 - acc: 0.9940 - val_loss: 0.6624 - val_acc: 0.8633\n",
      "Epoch 50/50\n",
      "1500/1500 [==============================] - 2s 1ms/step - loss: 0.0255 - acc: 0.9933 - val_loss: 0.5651 - val_acc: 0.8667\n"
     ]
    }
   ],
   "source": [
    "history = model.fit(x_train, y_train, epochs=50, validation_data=(x_test, y_test))"
   ]
  },
  {
   "cell_type": "markdown",
   "metadata": {},
   "source": [
    "Wir können die Testgenauigkeit über den Score von *evaluate()* ausgeben."
   ]
  },
  {
   "cell_type": "code",
   "execution_count": 11,
   "metadata": {},
   "outputs": [
    {
     "name": "stdout",
     "output_type": "stream",
     "text": [
      "300/300 [==============================] - 0s 553us/step\n",
      "Test-accuracy: 86.66666674613953%\n"
     ]
    }
   ],
   "source": [
    "# Ausgeben der Test-accuracy\n",
    "score = model.evaluate(x_test, y_test)\n",
    "\n",
    "print(\"Test-accuracy: \" + str(score[1]*100) + \"%\")"
   ]
  },
  {
   "cell_type": "markdown",
   "metadata": {},
   "source": [
    "Zur Visualisierung einer **Confusion Matrix** benötigen wir die Vorhersagen der Testdaten-Labels. Dafür rufen wir die Methode *predict()* auf unsere Testdaten auf. Ebenfalls wandeln wir unsere binären Test-Labels zurück, um diese mit den Vorhersagen vergleichen zu können."
   ]
  },
  {
   "cell_type": "code",
   "execution_count": 15,
   "metadata": {},
   "outputs": [
    {
     "name": "stdout",
     "output_type": "stream",
     "text": [
      "[[85  4 11]\n",
      " [ 3 90  7]\n",
      " [ 7  8 85]]\n"
     ]
    }
   ],
   "source": [
    "# Vorhersagen der Testdaten-Labels.\n",
    "y_pred = model.predict_classes(x_test, verbose=0)\n",
    "\n",
    "# Umkehren der binären Klassenmatrix zu kategorischen Vektoren für Confusion Matrix.\n",
    "y_test_rev = [np.argmax(y, axis=None, out=None) for y in y_test]\n",
    "\n",
    "# Berechnen der Confusion Matrix\n",
    "print(confusion_matrix(y_test_rev, y_pred))"
   ]
  },
  {
   "cell_type": "markdown",
   "metadata": {},
   "source": [
    "Mittels *matplotlib* können wir unsere Trainings-, Test- History in Bezug auf Accuracy und Loss plotten."
   ]
  },
  {
   "cell_type": "code",
   "execution_count": 17,
   "metadata": {},
   "outputs": [
    {
     "data": {
      "image/png": "[encoded data removed]",
      "text/plain": [
       "<Figure size 432x288 with 1 Axes>"
      ]
     },
     "metadata": {
      "needs_background": "light"
     },
     "output_type": "display_data"
    }
   ],
   "source": [
    "plt.plot(history.history['acc'])\n",
    "plt.plot(history.history['val_acc'])\n",
    "plt.plot(history.history['loss'])\n",
    "plt.plot(history.history['val_loss'])\n",
    "plt.ylabel('acc/loss')\n",
    "plt.xlabel('epoch')\n",
    "plt.legend(['train_acc', 'test_acc', 'train_loss', 'test_loss'], loc='best')\n",
    "plt.show()"
   ]
  },
  {
   "cell_type": "markdown",
   "metadata": {},
   "source": [
    "Um unser Modell für weitere Aufgaben verwenden zu können nutzen wir die **save**-Methode zur Speicherung unseres Modells als Datei."
   ]
  },
  {
   "cell_type": "code",
   "execution_count": null,
   "metadata": {},
   "outputs": [],
   "source": [
    "model.save(\"model.h5\")"
   ]
  }
 ],
 "metadata": {
  "kernelspec": {
   "display_name": "Python 2",
   "language": "python",
   "name": "python2"
  },
  "language_info": {
   "codemirror_mode": {
    "name": "ipython",
    "version": 2
   },
   "file_extension": ".py",
   "mimetype": "text/x-python",
   "name": "python",
   "nbconvert_exporter": "python",
   "pygments_lexer": "ipython2",
   "version": "2.7.15"
  }
 },
 "nbformat": 4,
 "nbformat_minor": 1
}
