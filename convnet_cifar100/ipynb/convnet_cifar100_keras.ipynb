{
 "cells": [
  {
   "cell_type": "markdown",
   "metadata": {},
   "source": [
    "# Convolutional Neural Network (CNN) for Fruit-Image Classification"
   ]
  },
  {
   "cell_type": "code",
   "execution_count": 15,
   "metadata": {},
   "outputs": [],
   "source": [
    "import numpy as np\n",
    "\n",
    "from keras.datasets import cifar100\n",
    "from keras.utils import to_categorical\n",
    "from keras import Sequential\n",
    "from keras.layers import Conv2D, MaxPooling2D, Flatten, Dropout, Dense\n",
    "\n",
    "from sklearn.metrics import confusion_matrix\n",
    "\n",
    "import matplotlib.pyplot as plt"
   ]
  },
  {
   "cell_type": "markdown",
   "metadata": {},
   "source": [
    "Für unser Modell nutzen wir den CIFAR100-Datensatz, der über das Modul *keras.datasets* zur Verfügung steht. Dieser besteht aus insgesamt **60000 farbigen Bildern** aufgeteilt in **50000 Trainingsbilder** und **10000 Testbildern**. Die Bilder haben jeweils eine Auflösung von **32x32 Pixeln** und können folgendermaßen geladen werden:"
   ]
  },
  {
   "cell_type": "code",
   "execution_count": 16,
   "metadata": {},
   "outputs": [],
   "source": [
    "(x_train, y_train), (x_test, y_test) = cifar100.load_data(label_mode='fine')"
   ]
  },
  {
   "cell_type": "markdown",
   "metadata": {},
   "source": [
    "Trainings- und Testdaten können über *cifar100.load_data()* geladen werden. Der Datensatz setzt sich aus Kategorien samt Subkategorien zusammen. Über das Argument *label_mode* fordern wir alle Subkategorien an. Da wir mit unserem Modell nur **Früchte** klassizieren möchten, reduzieren wir unsere Daten auf die Kategorien: **Apple, Orange, Pear**. Diese Klassen entsprechen den Labels mit der ID: Apple = 0, Orange = 53, Pear = 57."
   ]
  },
  {
   "cell_type": "code",
   "execution_count": 17,
   "metadata": {},
   "outputs": [],
   "source": [
    "indices_train, indices_test = [], []\n",
    "\n",
    "# Wir untersuchen, ob es sich bei einem Eintrag der Trainings-Labels um eines der Früchte handelt.\n",
    "# Falls ja, fügen wir dessen Index einem zuvor initialisiertem Array hinzu.\n",
    "for i in range(len(y_train)):\n",
    "    if y_train[i] == 0 or y_train[i] == 53 or y_train[i] == 57:\n",
    "        indices_train.append(i)\n",
    "\n",
    "# Selbiges führen wir für alle Test-Labels durch.\n",
    "for i in range(len(y_test)):\n",
    "    if y_test[i] == 0 or y_test[i] == 53 or y_test[i] == 57:\n",
    "        indices_test.append(i)\n",
    "\n",
    "# Wir reduzieren unsere Trainings- und Test-Labels auf alle die, der Früchte.\n",
    "y_train = np.array(y_train[indices_train])\n",
    "y_test = np.array(y_test[indices_test])\n",
    "\n",
    "# Wir reduzieren unsere Trainings- und Testdaten auf alle die, der Früchte.\n",
    "x_train = x_train[np.ravel(indices_train)]\n",
    "x_test = x_test[np.ravel(indices_test)]\n",
    "\n",
    "# Für die Konvertierung unserer Label-Vektoren in Binäre-Klassenmatrizen, ändern wir alle ursprünglichen\n",
    "# Trainings- und Test-Labels in die Werte 0-2. Man beachte: range(start, ende) inkludiert ende nicht!\n",
    "for i in range(len(y_train)):\n",
    "    if y_train[i] == 0:\n",
    "        np.put(y_train, i, 0)\n",
    "    elif y_train[i] == 53:\n",
    "        np.put(y_train, i, 1)\n",
    "    elif y_train[i] == 57:\n",
    "        np.put(y_train, i, 2)\n",
    "\n",
    "for i in range(len(y_test)):\n",
    "    if y_test[i] == 0:\n",
    "        np.put(y_test, i, 0)\n",
    "    elif y_test[i] == 53:\n",
    "        np.put(y_test, i, 1)\n",
    "    elif y_test[i] == 57:\n",
    "        np.put(y_test, i, 2)\n",
    "\n",
    "\n",
    "# Die Konvertierung unser Label-Vektoren in Binäre-Klassenmatrizen wird für unseren Datensatz benötigt.\n",
    "y_train = to_categorical(y_train, 3)\n",
    "y_test = to_categorical(y_test, 3)"
   ]
  },
  {
   "cell_type": "markdown",
   "metadata": {},
   "source": [
    "Zur Verifizierung der Daten können wir ein paar Beispiele mit Hilfe des Moduls **matplotlib** plotten."
   ]
  },
  {
   "cell_type": "code",
   "execution_count": 18,
   "metadata": {},
   "outputs": [
    {
     "data": {
      "image/png": "[encoded data removed]",
      "text/plain": [
       "<Figure size 1152x432 with 3 Axes>"
      ]
     },
     "metadata": {
      "needs_background": "light"
     },
     "output_type": "display_data"
    }
   ],
   "source": [
    "# Dafür plotten wir jeweils 1 Bild der drei Kategorien.\n",
    "fig = plt.figure(figsize=(16, 6))\n",
    "\n",
    "apple = fig.add_subplot(1, 3, 1)\n",
    "apple.set_title(\"Apple\")\n",
    "apple.imshow(x_train[0])\n",
    "\n",
    "orange = fig.add_subplot(1, 3, 2)\n",
    "orange.set_title(\"Orange\")\n",
    "orange.imshow(x_train[1])\n",
    "\n",
    "pear = fig.add_subplot(1, 3, 3)\n",
    "pear.set_title(\"Pear\")\n",
    "pear.imshow(x_train[6])\n",
    "\n",
    "plt.show()"
   ]
  },
  {
   "cell_type": "markdown",
   "metadata": {},
   "source": [
    "Eine Normalisierung der Daten liefert uns eine"
   ]
  },
  {
   "cell_type": "code",
   "execution_count": 19,
   "metadata": {},
   "outputs": [],
   "source": [
    "# Wir müssen zuvor unsere Bilddaten in Float-Datentypen casten, dass wir Gleitkommazahlen bekommen. \n",
    "x_train = x_train.astype('float32')\n",
    "x_test = x_test.astype('float32')\n",
    "\n",
    "# Konvertieren der RGB-Werte in Werte zwischen [0;1]\n",
    "x_train /= 255\n",
    "x_test /= 255"
   ]
  },
  {
   "cell_type": "markdown",
   "metadata": {},
   "source": [
    "Im folgenden Schritt definieren wir unser Modell. Wir nutzen für die Klassifizierung unserer Bilder ein **Convolutional Neural Network (CNN)**. Das Modell besteht aus vier *Convolutional Layern* und drei *Pooling Layern*. Unsere Filtergröße beträgt *3 x 3*. Wir verwenden für jede Schicht die *ReĹu*-Aktivierungsfunktion. Nur unser Ausgabeschicht verwendet eine *Softmax*-Aktivierungsfunktionen. Als Error-Funktion kommt für Multiklassifizierung bestimmte *Categorial_Crossentropy*  zum Einsatz. Als Optimierer benutzen wir den stochastischen Optimierer *Adam*."
   ]
  },
  {
   "cell_type": "code",
   "execution_count": 20,
   "metadata": {},
   "outputs": [],
   "source": [
    "# Wir definieren unser Model über einen Stapel von Schichten. Hierzu initialisieren wir unser sequentialles Modell.\n",
    "model = Sequential()\n",
    "\n",
    "model.add(Conv2D(32, (3, 3), activation='relu', input_shape=(32, 32, 3)))\n",
    "model.add(MaxPooling2D((2, 2)))\n",
    "\n",
    "model.add(Conv2D(96, (3, 3), activation='relu'))\n",
    "model.add(MaxPooling2D((2, 2)))\n",
    "\n",
    "model.add(Conv2D(192, (3, 3), activation='relu'))\n",
    "model.add(MaxPooling2D((2, 2)))\n",
    "\n",
    "model.add(Dropout(0.4))\n",
    "model.add(Flatten())\n",
    "\n",
    "model.add(Dense(96, activation='relu'))\n",
    "model.add(Dense(3, activation='softmax'))\n",
    "\n",
    "model.compile(loss='categorical_crossentropy', optimizer='Adam', metrics=['accuracy'])"
   ]
  },
  {
   "cell_type": "markdown",
   "metadata": {},
   "source": [
    "Zum Trainieren des Modells übergeben wir der **fit()**-Methode unsere Trainingsdaten und -Labels. Das Modell wird über 5 Epochen trainiert. Wir verwenden unsere Testdaten und -Labels zur Validierung unseres Modells nach jeder Epoche über das Argument *validation_data*. \"Loss\" und \"Accuracy\" werden standardmäßig nach jeder Epoche und nach dem Trainieren ausgegeben (verbose default: 1)."
   ]
  },
  {
   "cell_type": "code",
   "execution_count": 21,
   "metadata": {},
   "outputs": [
    {
     "name": "stdout",
     "output_type": "stream",
     "text": [
      "Train on 1500 samples, validate on 300 samples\n",
      "Epoch 1/20\n",
      "1500/1500 [==============================] - 2s 2ms/step - loss: 0.9480 - acc: 0.5413 - val_loss: 0.6805 - val_acc: 0.7567\n",
      "Epoch 2/20\n",
      "1500/1500 [==============================] - 2s 1ms/step - loss: 0.7498 - acc: 0.6873 - val_loss: 0.5907 - val_acc: 0.7633\n",
      "Epoch 3/20\n",
      "1500/1500 [==============================] - 2s 1ms/step - loss: 0.6150 - acc: 0.7313 - val_loss: 0.5141 - val_acc: 0.7767\n",
      "Epoch 4/20\n",
      "1500/1500 [==============================] - 2s 1ms/step - loss: 0.6009 - acc: 0.7480 - val_loss: 0.5242 - val_acc: 0.7833\n",
      "Epoch 5/20\n",
      "1500/1500 [==============================] - 2s 1ms/step - loss: 0.5844 - acc: 0.7613 - val_loss: 0.5124 - val_acc: 0.7967\n",
      "Epoch 6/20\n",
      "1500/1500 [==============================] - 2s 1ms/step - loss: 0.5226 - acc: 0.7973 - val_loss: 0.4373 - val_acc: 0.8267\n",
      "Epoch 7/20\n",
      "1500/1500 [==============================] - 2s 1ms/step - loss: 0.4889 - acc: 0.8007 - val_loss: 0.5188 - val_acc: 0.8133\n",
      "Epoch 8/20\n",
      "1500/1500 [==============================] - 2s 1ms/step - loss: 0.4754 - acc: 0.8227 - val_loss: 0.5128 - val_acc: 0.7967\n",
      "Epoch 9/20\n",
      "1500/1500 [==============================] - 2s 1ms/step - loss: 0.4583 - acc: 0.8147 - val_loss: 0.4611 - val_acc: 0.8133\n",
      "Epoch 10/20\n",
      "1500/1500 [==============================] - 2s 1ms/step - loss: 0.4266 - acc: 0.8327 - val_loss: 0.4083 - val_acc: 0.8300\n",
      "Epoch 11/20\n",
      "1500/1500 [==============================] - 2s 1ms/step - loss: 0.3711 - acc: 0.8613 - val_loss: 0.4050 - val_acc: 0.8367\n",
      "Epoch 12/20\n",
      "1500/1500 [==============================] - 2s 1ms/step - loss: 0.3304 - acc: 0.8787 - val_loss: 0.3618 - val_acc: 0.8667\n",
      "Epoch 13/20\n",
      "1500/1500 [==============================] - 2s 1ms/step - loss: 0.2938 - acc: 0.8853 - val_loss: 0.5388 - val_acc: 0.8000\n",
      "Epoch 14/20\n",
      "1500/1500 [==============================] - 2s 1ms/step - loss: 0.2937 - acc: 0.8967 - val_loss: 0.4764 - val_acc: 0.8267\n",
      "Epoch 15/20\n",
      "1500/1500 [==============================] - 2s 1ms/step - loss: 0.2642 - acc: 0.8947 - val_loss: 0.4634 - val_acc: 0.8267\n",
      "Epoch 16/20\n",
      "1500/1500 [==============================] - 2s 1ms/step - loss: 0.2341 - acc: 0.9180 - val_loss: 0.3924 - val_acc: 0.8367\n",
      "Epoch 17/20\n",
      "1500/1500 [==============================] - 2s 1ms/step - loss: 0.1892 - acc: 0.9313 - val_loss: 0.4356 - val_acc: 0.8500\n",
      "Epoch 18/20\n",
      "1500/1500 [==============================] - 2s 1ms/step - loss: 0.1762 - acc: 0.9400 - val_loss: 0.4886 - val_acc: 0.8467\n",
      "Epoch 19/20\n",
      "1500/1500 [==============================] - 2s 1ms/step - loss: 0.1766 - acc: 0.9307 - val_loss: 0.4468 - val_acc: 0.8767\n",
      "Epoch 20/20\n",
      "1500/1500 [==============================] - 2s 1ms/step - loss: 0.1290 - acc: 0.9560 - val_loss: 0.4406 - val_acc: 0.8600\n"
     ]
    },
    {
     "data": {
      "text/plain": [
       "<keras.callbacks.History at 0x7fada402fdd8>"
      ]
     },
     "execution_count": 21,
     "metadata": {},
     "output_type": "execute_result"
    }
   ],
   "source": [
    "model.fit(x_train, y_train, epochs=20, validation_data=(x_test, y_test))"
   ]
  },
  {
   "cell_type": "markdown",
   "metadata": {},
   "source": [
    "Zur Visualisierung einer **Confusion Matrix** benötigen wir die Vorhersagen der Testdaten-Labels. Dafür rufen wir die Methode *predict()* auf unsere Testdaten auf. Ebenfalls wandeln wir unsere binären Test-Labels zurück, um diese mit den Vorhersagen vergleichen zu können."
   ]
  },
  {
   "cell_type": "code",
   "execution_count": 22,
   "metadata": {},
   "outputs": [
    {
     "name": "stdout",
     "output_type": "stream",
     "text": [
      "[[88  1 11]\n",
      " [ 5 81 14]\n",
      " [ 7  4 89]]\n"
     ]
    }
   ],
   "source": [
    "# Vorhersagen der Testdaten-Labels.\n",
    "y_pred = model.predict_classes(x_test, verbose=0)\n",
    "\n",
    "# Umkehren der binären Klassenmatrix zu kategorischen Vektoren für Confusion Matrix.\n",
    "y_test_rev = [np.argmax(y, axis=None, out=None) for y in y_test]\n",
    "\n",
    "# Berechnen der Confusion Matrix\n",
    "print(confusion_matrix(y_test_rev, y_pred))"
   ]
  },
  {
   "cell_type": "markdown",
   "metadata": {},
   "source": [
    "Um unser Modell für weitere Aufgaben verwenden zu können nutzen wir die **save**-Methode zur Speicherung unseres Modells als Datei."
   ]
  },
  {
   "cell_type": "code",
   "execution_count": 23,
   "metadata": {},
   "outputs": [],
   "source": [
    "model.save(\"model.h5\")"
   ]
  }
 ],
 "metadata": {
  "kernelspec": {
   "display_name": "Python 3",
   "language": "python",
   "name": "python3"
  },
  "language_info": {
   "codemirror_mode": {
    "name": "ipython",
    "version": 3
   },
   "file_extension": ".py",
   "mimetype": "text/x-python",
   "name": "python",
   "nbconvert_exporter": "python",
   "pygments_lexer": "ipython3",
   "version": "3.6.7"
  }
 },
 "nbformat": 4,
 "nbformat_minor": 1
}
