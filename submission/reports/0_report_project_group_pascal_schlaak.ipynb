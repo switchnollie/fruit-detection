{
 "cells": [
  {
   "cell_type": "markdown",
   "metadata": {},
   "source": [
    "# Spezielle Aspekte betrieblicher Informationsverarbeitung"
   ]
  },
  {
   "cell_type": "markdown",
   "metadata": {},
   "source": [
    "### Einleitung"
   ]
  },
  {
   "cell_type": "markdown",
   "metadata": {},
   "source": [
    "Unser Gruppenprojekt befasst sich mit dem Thema Bildverarbeitung mit Tensorflow unter Benutzung einer Wrapper-Library (keras oder tf.learn).\n",
    "Als Wrapper-Library haben wir uns nach einiger Recherche für Keras entschieden, da diese state of the ist und laut Keras Website besonders für Einsteiger geeignet ist. Wir gehen in den entpsrechenden Jupyter-Notebooks von Multilayer Perceptron (kurz MLP) und Convolutional neural network (kurz CNN) noch jeweils genauer auf die verwendeten Bibliotheken ein."
   ]
  },
  {
   "cell_type": "markdown",
   "metadata": {},
   "source": [
    "Um das Thema Bildverarbeitung weiträumig zu behandeln haben wir zwei gängige Modelle herangezogen um gewonnene Ergebnisse miteinander zu vergleichen. Dabei haben wir uns zum einen für ein MLP und zum anderen für ein CNN entschieden. Aufgrund der aus der Vorlesung gewonnenen Erfahrung mit MLPs haben wir uns für dieses, als Erstes, Modell entschieden. Gleichzeitig ergab unsere Recherche, dass in vielen bildverarbeitenden Projekten ein CNN das meistgenutzte Modell ist."
   ]
  },
  {
   "cell_type": "markdown",
   "metadata": {},
   "source": [
    "Folgend sind die Modellerklärungen, sowie der Code samt Ergebnisse in den jeweiligen Notebooks der Modelle zu finden. Besonders wichtig war uns der Vergleich der beiden Modelle miteinander, dieser findet sich am Ende dieses Notebooks. "
   ]
  },
  {
   "cell_type": "markdown",
   "metadata": {},
   "source": [
    "### Multilayer Perceptron (MLP)"
   ]
  },
  {
   "cell_type": "markdown",
   "metadata": {},
   "source": [
    "Link to [MLP-Notebook](1_report_mlp_group_pascal_schlaak.ipynb)"
   ]
  },
  {
   "cell_type": "markdown",
   "metadata": {},
   "source": [
    "### Convolutional neural network (CNN)"
   ]
  },
  {
   "cell_type": "markdown",
   "metadata": {},
   "source": [
    "Link to [CNN-Notebook](2_report_cnn_group_pascal_schlaak.ipynb)"
   ]
  },
  {
   "cell_type": "markdown",
   "metadata": {},
   "source": [
    "### Ergebnis"
   ]
  },
  {
   "cell_type": "markdown",
   "metadata": {},
   "source": [
    "Lorem ipsum"
   ]
  }
 ],
 "metadata": {
  "kernelspec": {
   "display_name": "Python 2",
   "language": "python",
   "name": "python2"
  },
  "language_info": {
   "codemirror_mode": {
    "name": "ipython",
    "version": 2
   },
   "file_extension": ".py",
   "mimetype": "text/x-python",
   "name": "python",
   "nbconvert_exporter": "python",
   "pygments_lexer": "ipython2",
   "version": "2.7.15"
  }
 },
 "nbformat": 4,
 "nbformat_minor": 2
}
