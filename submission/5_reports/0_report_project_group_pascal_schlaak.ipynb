{
 "cells": [
  {
   "cell_type": "markdown",
   "metadata": {},
   "source": [
    "# Spezielle Aspekte betrieblicher Informationsverarbeitung"
   ]
  },
  {
   "cell_type": "markdown",
   "metadata": {},
   "source": [
    "### Einleitung"
   ]
  },
  {
   "cell_type": "markdown",
   "metadata": {},
   "source": [
    "Unser Gruppenprojekt befasst sich mit dem Thema Bildverarbeitung mit Tensorflow unter Benutzung einer Wrapper-Library (keras oder tf.learn).\n",
    "Als Wrapper-Library haben wir uns nach einiger Recherche für Keras entschieden, da diese state of the ist und laut Keras Website besonders für Einsteiger geeignet ist. Wir gehen in den entpsrechenden Jupyter-Notebooks von Multilayer Perceptron (kurz MLP) und Convolutional neural network (kurz CNN) noch jeweils genauer auf die verwendeten Bibliotheken ein."
   ]
  },
  {
   "cell_type": "markdown",
   "metadata": {},
   "source": [
    "Um das Thema Bildverarbeitung weiträumig zu behandeln haben wir zwei gängige Modelle herangezogen um gewonnene Ergebnisse miteinander zu vergleichen. Dabei haben wir uns zum einen für ein MLP und zum anderen für ein CNN entschieden. Aufgrund der aus der Vorlesung gewonnenen Erfahrung mit MLPs haben wir uns für dieses, als Erstes, Modell entschieden. Gleichzeitig ergab unsere Recherche, dass in vielen bildverarbeitenden Projekten ein CNN das meistgenutzte Modell ist."
   ]
  },
  {
   "cell_type": "markdown",
   "metadata": {},
   "source": [
    "Folgend sind die Modellerklärungen, sowie der Code samt Ergebnisse in den jeweiligen Notebooks der Modelle zu finden. Besonders wichtig war uns der Vergleich der beiden Modelle miteinander, dieser findet sich am Ende dieses Notebooks. "
   ]
  },
  {
   "cell_type": "markdown",
   "metadata": {},
   "source": [
    "### Multilayer Perceptron (MLP)"
   ]
  },
  {
   "cell_type": "markdown",
   "metadata": {},
   "source": [
    "Link to [MLP-Notebook](1_report_mlp_group_pascal_schlaak.ipynb)"
   ]
  },
  {
   "cell_type": "markdown",
   "metadata": {},
   "source": [
    "### Convolutional neural network (CNN)"
   ]
  },
  {
   "cell_type": "markdown",
   "metadata": {},
   "source": [
    "Link to [CNN-Notebook](2_report_cnn_group_pascal_schlaak.ipynb)"
   ]
  },
  {
   "cell_type": "markdown",
   "metadata": {},
   "source": [
    "### Ergebnis"
   ]
  },
  {
   "cell_type": "markdown",
   "metadata": {},
   "source": [
    "Nach mehreren Testläufen mit jeweils unterschiedlichen Paramatern und Datensätzen sind wir zu dem Ergebnis gekommen, dass sich ein MLP schlechter für Bildklassifizierung eignet als ein CNN.\n",
    "Gründe dafür sind zum einen, dass das MLP nicht so gut skaliert im Hinblick auf die Neuronen in den Hidden-Layers und zum anderen gelangt man schnell in den Bereich des Overfittings.\n",
    "Desweiteren gibt es keine Abstrahierung das MLP Bezieht Korrelationen zu umliegenden Pixeln nicht mit ein, es bewertet alle Pixel gleich.\n",
    "Ein MLP ist auch nicht robust gegenüber Bildtransformationen, also wenn sich bspw. das Gesuchte Objekt plötzlich nicht mehr mittig im Bild befindet. Das gelernte Modell ist somit sehr starr.\n",
    "\n",
    "\n",
    "\n",
    "#### Notizen:\n",
    "Vergleich: Warum MLP schlechter ist für Bildklassifizierung\n",
    "3 Probleme bei Image recognition mit MLP:\n",
    "- Skalieren nicht gut (viel zu viele Verbindungen, jedes Neuron im Hidden-Layer sollte Höhe * Breite *\n",
    "Channels = Verbindungen haben)\n",
    "→ Führt auch sehr schnell zu Overfitting (wir vermuten wegen zu viele Verbindungen. Netz nutzt nicht\n",
    "alle/sehr wenige, was zu Overfitting führt)\n",
    "- Keine Abstrahierung → Bezieht Korrelationen zu umliegenden Pixeln nicht mit ein (Durch Filter bei\n",
    "CNN werden Highlights eines Teilbereichs des Bildes generiert, MLP bewertet alle Pixel gleich)\n",
    "- MLP ist nicht robust gegenüber Bildtransformation (Wenn MLP darauf gelernt wurde, dass Apfel in\n",
    "der Mitte des Bildes ist und Apfel liegt in Testbild außen → für MLP kein Apfel)\n",
    "→ Codebeispiele wären gut"
   ]
  }
 ],
 "metadata": {
  "kernelspec": {
   "display_name": "Python 3",
   "language": "python",
   "name": "python3"
  },
  "language_info": {
   "codemirror_mode": {
    "name": "ipython",
    "version": 3
   },
   "file_extension": ".py",
   "mimetype": "text/x-python",
   "name": "python",
   "nbconvert_exporter": "python",
   "pygments_lexer": "ipython3",
   "version": "3.6.7"
  }
 },
 "nbformat": 4,
 "nbformat_minor": 2
}
