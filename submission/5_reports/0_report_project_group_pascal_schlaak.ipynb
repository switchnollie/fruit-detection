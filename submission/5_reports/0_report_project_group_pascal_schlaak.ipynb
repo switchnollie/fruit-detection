{
 "cells": [
  {
   "cell_type": "markdown",
   "metadata": {},
   "source": [
    "# Spezielle Aspekte betrieblicher Informationsverarbeitung"
   ]
  },
  {
   "cell_type": "markdown",
   "metadata": {},
   "source": [
    "### Einleitung"
   ]
  },
  {
   "cell_type": "markdown",
   "metadata": {},
   "source": [
    "Unser Gruppenprojekt befasst sich mit dem Thema Bildklassifizierung mit Tensorflow unter Benutzung einer Wrapper-Library (keras oder tf.learn). Als Wrapper-Library haben wir uns nach einiger Recherchen für Keras entschieden, eine sehr benutzerfreundliche und modulare high-level-API von Tensorflow.\n",
    "\n",
    "Um das Thema Bildklassifizierung weiträumig zu behandeln haben wir uns mit dem Optimieren zweier gängiger Modelle beschäftigt, um gewonnene Ergebnisse miteinander vergleichen zu können. Dabei haben wir uns zum einen für ein ***Multilayer perceptron (MLP)*** und zum anderen für ein ***Convolutional neural network (CNN)*** entschieden. Innerhalb eines MLPs wollten wir unsere in der Vorlesung erlernten Inhalte anwenden und resultierende Ergebnisse evaluieren. Unsere Recherche ergab, dass CNNs, als \"state of the art\" für die Bereiche Bildklassifizierung und Objekterkennung gelten. Ein Vergleich der Vorlesungsinhalte mit den Projektrecherchen erschien uns schlussendlich als sinnvoll.\n",
    "\n",
    "Wir gehen in den entpsrechenden Jupyter-Notebooks von MLPs und CNNs noch jeweils genauer auf die verwendeten Bibliotheken ein."
   ]
  },
  {
   "cell_type": "markdown",
   "metadata": {},
   "source": [
    "### Multilayer Perceptron (MLP)"
   ]
  },
  {
   "cell_type": "markdown",
   "metadata": {},
   "source": [
    "Link für [MLP-Notebook](1_report_mlp_group_pascal_schlaak.ipynb)"
   ]
  },
  {
   "cell_type": "markdown",
   "metadata": {},
   "source": [
    "### Convolutional neural network (CNN)"
   ]
  },
  {
   "cell_type": "markdown",
   "metadata": {},
   "source": [
    "Link für [CNN-Notebook](2_report_cnn_group_pascal_schlaak.ipynb)"
   ]
  },
  {
   "cell_type": "markdown",
   "metadata": {},
   "source": [
    "### Ergebnis"
   ]
  },
  {
   "cell_type": "markdown",
   "metadata": {},
   "source": [
    "Nach verschiedenen Testläufen mit unterschiedlichen Paramatern und Datensätzen sind wir zu dem Ergebnis gekommen, dass sich ein MLP, wie erwartet, schlechter für Bildklassifizierung eignet als ein CNN.\n",
    "\n",
    "Gründe dafür sind zum einen, dass ein MLP nicht so gut skaliert, im Hinblick auf die Neuronen in den Hidden-Layers (jedes Neuron im Hidden-Layer müsste Höhe * Breite * Channels an Verbindungen haben). Zum anderen gelangt man schneller in den Bereich des Overfittings.\n",
    "\n",
    "Desweiteren gibt es keine Abstrahierung. Das MLP bezieht Korrelationen zu umliegenden Pixeln nicht mit ein, es bewertet alle Pixel gleich. Ein CNN hingegen abstrahiert Bildaten über die Faltung des Convolutional Layers und das Pooling.\n",
    "\n",
    "Ein MLP ist auch nicht robust gegenüber Bildtransformationen, also wenn sich bspw. das gesuchte Objekt plötzlich nicht mehr mittig im Bild befindet. Das gelernte Modell ist somit sehr starr."
   ]
  }
 ],
 "metadata": {
  "kernelspec": {
   "display_name": "Python 3",
   "language": "python",
   "name": "python3"
  },
  "language_info": {
   "codemirror_mode": {
    "name": "ipython",
    "version": 3
   },
   "file_extension": ".py",
   "mimetype": "text/x-python",
   "name": "python",
   "nbconvert_exporter": "python",
   "pygments_lexer": "ipython3",
   "version": "3.6.7"
  }
 },
 "nbformat": 4,
 "nbformat_minor": 2
}
